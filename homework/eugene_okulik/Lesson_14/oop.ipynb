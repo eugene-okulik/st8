{
 "cells": [
  {
   "cell_type": "markdown",
   "metadata": {},
   "source": [
    "ООП - объектно-ориентированное программирование"
   ]
  },
  {
   "cell_type": "markdown",
   "metadata": {},
   "source": [
    "Приципы ООП:\n",
    "- Инкапсуляция (Encapsulation)\n",
    "- Наследование (inheritance)\n",
    "- Полиморфизм (Polymorphism)"
   ]
  },
  {
   "cell_type": "markdown",
   "metadata": {},
   "source": [
    "**Инкапсуляция**  \n",
    "Все данные объекта должны хранится в объекте. Никто не может изменить данные объекта без его ведома."
   ]
  },
  {
   "cell_type": "code",
   "execution_count": 1,
   "metadata": {},
   "outputs": [
    {
     "name": "stdout",
     "output_type": "stream",
     "text": [
      "Marivanna\n",
      "AAAAAAAAA\n"
     ]
    }
   ],
   "source": [
    "class SchoolGroup:\n",
    "    school_name = 42\n",
    "    director = 'Marivanna'\n",
    "    pupils = True\n",
    "\n",
    "    def __init__(self, title, group_leader, pupils_count, group_room, deviz=None):\n",
    "        self.title = title\n",
    "        self.group_leader = group_leader\n",
    "        self.pupils_count = pupils_count\n",
    "        self.group_room = group_room\n",
    "        self.deviz = deviz\n",
    "\n",
    "group = SchoolGroup(title='1A', group_leader = 'ART', pupils_count=23, group_room='312')\n",
    "print(group.director)\n",
    "group.director = 'AAAAAAAAA'\n",
    "print(group.director)"
   ]
  },
  {
   "cell_type": "markdown",
   "metadata": {},
   "source": [
    "**Наследование**  \n",
    "Объекты и их типы организуют иерархию типов. Дочерние типы наследуют свою функциональность от родительского класса, расширяя и дополняя её."
   ]
  },
  {
   "cell_type": "markdown",
   "metadata": {},
   "source": [
    "**Полиморфизм**  \n",
    "Способность классов менять своё поведение в зависимости от типов операций и операндов. Полиморфизм в программировании реализуется через перегрузку метода, либо через его переопределение."
   ]
  },
  {
   "cell_type": "code",
   "execution_count": null,
   "metadata": {},
   "outputs": [],
   "source": [
    "# data1.txt\n",
    "{\"Country\": \"Turkey\", \"avg_temp\": 30}\n",
    "# data2.txt\n",
    "{\"Country\": \"Greece\", \"avg_temp\": 28}"
   ]
  },
  {
   "cell_type": "code",
   "execution_count": 15,
   "metadata": {},
   "outputs": [
    {
     "name": "stdout",
     "output_type": "stream",
     "text": [
      "Turkey\n",
      "Greece\n",
      "30\n"
     ]
    }
   ],
   "source": [
    "import json\n",
    "\n",
    "def read_file(filename):\n",
    "    opened_file = open(filename)\n",
    "    # data = opened_file.read()\n",
    "    data = json.load(opened_file)\n",
    "    # data = json.loads(data)\n",
    "    opened_file.close()\n",
    "    return data\n",
    "\n",
    "data1 = read_file('data1.txt')\n",
    "data2 = read_file('data2.txt')\n",
    "print(data1['Country'])\n",
    "print(data2['Country'])\n",
    "print(data1['avg_temp'])"
   ]
  },
  {
   "cell_type": "code",
   "execution_count": 37,
   "metadata": {},
   "outputs": [
    {
     "name": "stdout",
     "output_type": "stream",
     "text": [
      "30\n",
      "Greece\n",
      "False\n",
      "None\n",
      "value\n"
     ]
    }
   ],
   "source": [
    "class CountryData:\n",
    "    def __init__(self, filename):\n",
    "        self.__filename = filename\n",
    "        self.__data = self.__read_file()\n",
    "        self.__country = self.__data['Country']\n",
    "        self.__avg_temp = self.__data['avg_temp']\n",
    "        self.__is_hot = True if self.__avg_temp > 29 else False\n",
    "        self._erunda = 'value'\n",
    "        \n",
    "\n",
    "    def __read_file(self):\n",
    "        opened_file = open(self.__filename)\n",
    "        data = json.load(opened_file)\n",
    "        opened_file.close()\n",
    "        return data\n",
    "    \n",
    "    @property\n",
    "    def country(self):\n",
    "        return self.__country\n",
    "    \n",
    "    @property\n",
    "    def avg_temp(self):\n",
    "        return self.__avg_temp\n",
    "    \n",
    "    @property\n",
    "    def is_hot(self):\n",
    "        return self.__is_hot\n",
    "    \n",
    "    @is_hot.setter\n",
    "    def is_hot(self, value):\n",
    "        self.__is_hot = value\n",
    "\n",
    "    @is_hot.deleter\n",
    "    def is_hot(self):\n",
    "        self.__is_hot = None\n",
    "    \n",
    "\n",
    "data1 = CountryData('data1.txt')\n",
    "print(data1.avg_temp)\n",
    "data2 = CountryData('data2.txt')\n",
    "print(data2.country)\n",
    "data1.is_hot = False\n",
    "print(data2.is_hot)\n",
    "del data1.is_hot\n",
    "print(data1.is_hot)\n",
    "print(data1._erunda)"
   ]
  },
  {
   "cell_type": "code",
   "execution_count": 22,
   "metadata": {},
   "outputs": [
    {
     "name": "stdout",
     "output_type": "stream",
     "text": [
      "skljdhfksjdfhs.txt\n",
      "Turkey\n",
      "{1: 3}\n",
      "Turkey\n"
     ]
    }
   ],
   "source": [
    "data1.filename = 'skljdhfksjdfhs.txt'\n",
    "print(data1.filename)\n",
    "print(data1.country)\n",
    "data1.data = {1: 3}\n",
    "print(data1.data)\n",
    "print(data1.country)\n"
   ]
  },
  {
   "cell_type": "code",
   "execution_count": 33,
   "metadata": {},
   "outputs": [
    {
     "name": "stdout",
     "output_type": "stream",
     "text": [
      "234\n"
     ]
    },
    {
     "ename": "NameError",
     "evalue": "name 'my_var' is not defined",
     "output_type": "error",
     "traceback": [
      "\u001b[0;31m---------------------------------------------------------------------------\u001b[0m",
      "\u001b[0;31mNameError\u001b[0m                                 Traceback (most recent call last)",
      "\u001b[0;32m/tmp/ipykernel_486762/2358992115.py\u001b[0m in \u001b[0;36m<module>\u001b[0;34m\u001b[0m\n\u001b[1;32m      2\u001b[0m \u001b[0mprint\u001b[0m\u001b[0;34m(\u001b[0m\u001b[0mmy_var\u001b[0m\u001b[0;34m)\u001b[0m\u001b[0;34m\u001b[0m\u001b[0;34m\u001b[0m\u001b[0m\n\u001b[1;32m      3\u001b[0m \u001b[0;32mdel\u001b[0m \u001b[0mmy_var\u001b[0m\u001b[0;34m\u001b[0m\u001b[0;34m\u001b[0m\u001b[0m\n\u001b[0;32m----> 4\u001b[0;31m \u001b[0mprint\u001b[0m\u001b[0;34m(\u001b[0m\u001b[0mmy_var\u001b[0m\u001b[0;34m)\u001b[0m\u001b[0;34m\u001b[0m\u001b[0;34m\u001b[0m\u001b[0m\n\u001b[0m",
      "\u001b[0;31mNameError\u001b[0m: name 'my_var' is not defined"
     ]
    }
   ],
   "source": [
    "my_var = 234\n",
    "print(my_var)\n",
    "del my_var\n",
    "print(my_var)"
   ]
  },
  {
   "cell_type": "code",
   "execution_count": null,
   "metadata": {},
   "outputs": [],
   "source": [
    "# data3.txt\n",
    "{\"Country\": \"Peru\", \"avg_temp\": 25, \"min_temp\": 2}"
   ]
  },
  {
   "cell_type": "code",
   "execution_count": 18,
   "metadata": {},
   "outputs": [
    {
     "name": "stdout",
     "output_type": "stream",
     "text": [
      "2\n"
     ]
    }
   ],
   "source": [
    "class CountryDataWithWithMinTemp(CountryData):\n",
    "    def __init__(self, filename):\n",
    "        super().__init__(filename)\n",
    "        self.min_temp = self.data['min_temp']\n",
    "\n",
    "data3 = CountryDataWithWithMinTemp('data3.txt')\n",
    "print(data3.min_temp)"
   ]
  },
  {
   "cell_type": "code",
   "execution_count": 49,
   "metadata": {},
   "outputs": [
    {
     "name": "stdout",
     "output_type": "stream",
     "text": [
      "False\n",
      "True\n",
      "True\n",
      "<class CountryData {'Country': 'Turkey', 'avg_temp': 30}>\n",
      "[<class CountryData data1.txt>, <class CountryData data2.txt>]\n"
     ]
    }
   ],
   "source": [
    "class CountryData:\n",
    "    def __init__(self, filename):\n",
    "        self.__filename = filename\n",
    "        self.__data = self.__read_file()\n",
    "        self.__country = self.__data['Country']\n",
    "        self.__avg_temp = self.__data['avg_temp']\n",
    "        self.__is_hot = True if self.__avg_temp > 29 else False\n",
    "        self._erunda = 'value'\n",
    "        \n",
    "\n",
    "    def __read_file(self):\n",
    "        opened_file = open(self.__filename)\n",
    "        data = json.load(opened_file)\n",
    "        opened_file.close()\n",
    "        return data\n",
    "    \n",
    "    @property\n",
    "    def country(self):\n",
    "        return self.__country\n",
    "    \n",
    "    @property\n",
    "    def avg_temp(self):\n",
    "        return self.__avg_temp\n",
    "    \n",
    "    @property\n",
    "    def is_hot(self):\n",
    "        return self.__is_hot\n",
    "    \n",
    "    @is_hot.setter\n",
    "    def is_hot(self, value):\n",
    "        self.__is_hot = value\n",
    "\n",
    "    @is_hot.deleter\n",
    "    def is_hot(self):\n",
    "        self.__is_hot = None\n",
    "\n",
    "    def __lt__(self, obj):\n",
    "        return self.__avg_temp < obj.__avg_temp\n",
    "    \n",
    "    def __str__(self):\n",
    "        return f'<class CountryData {str(self.__data)}>'\n",
    "    \n",
    "    def __repr__(self):\n",
    "        return f'<class CountryData {self.__filename}>'\n",
    "    \n",
    "\n",
    "data1 = CountryData('data1.txt')\n",
    "data2 = CountryData('data2.txt')\n",
    "\n",
    "print(data1 < data2)  #  data1.__lt__(data2)\n",
    "print(data1 > data2)  #  data1.__gt__(data2)\n",
    "print(1 < 2)  # 1.__lt__(2)\n",
    "\n",
    "print(data1)  # print(str(data1)) -> print(data1.__str__())\n",
    "data_list = [data1, data2]\n",
    "print(data_list)"
   ]
  }
 ],
 "metadata": {
  "kernelspec": {
   "display_name": "Python 3",
   "language": "python",
   "name": "python3"
  },
  "language_info": {
   "codemirror_mode": {
    "name": "ipython",
    "version": 3
   },
   "file_extension": ".py",
   "mimetype": "text/x-python",
   "name": "python",
   "nbconvert_exporter": "python",
   "pygments_lexer": "ipython3",
   "version": "3.10.12"
  }
 },
 "nbformat": 4,
 "nbformat_minor": 2
}
