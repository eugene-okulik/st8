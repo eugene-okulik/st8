{
 "cells": [
  {
   "cell_type": "markdown",
   "metadata": {},
   "source": [
    "Datetime"
   ]
  },
  {
   "cell_type": "code",
   "execution_count": 5,
   "metadata": {},
   "outputs": [
    {
     "name": "stdout",
     "output_type": "stream",
     "text": [
      "2024-08-02 19:42:00.304466\n",
      "19\n",
      "4\n",
      "5\n",
      "1722616920.304466\n"
     ]
    }
   ],
   "source": [
    "import datetime\n",
    "\n",
    "\n",
    "time_now = datetime.datetime.now()\n",
    "print(time_now)\n",
    "print(time_now.hour)\n",
    "print(time_now.weekday())\n",
    "print(time_now.isoweekday())\n",
    "print(time_now.timestamp())"
   ]
  },
  {
   "cell_type": "code",
   "execution_count": 10,
   "metadata": {},
   "outputs": [
    {
     "name": "stdout",
     "output_type": "stream",
     "text": [
      "-10800.0\n",
      "1970-01-01 00:00:00\n"
     ]
    }
   ],
   "source": [
    "easy_date = datetime.datetime(1970, 1, 1)\n",
    "print(easy_date.timestamp())\n",
    "print(easy_date)"
   ]
  },
  {
   "cell_type": "code",
   "execution_count": 11,
   "metadata": {},
   "outputs": [
    {
     "name": "stdout",
     "output_type": "stream",
     "text": [
      "2\n"
     ]
    }
   ],
   "source": [
    "my_date = '2024-05-02 20:03:31.009333'\n",
    "my_date_python = datetime.datetime.fromisoformat(my_date)\n",
    "print(my_date_python.day)"
   ]
  },
  {
   "cell_type": "markdown",
   "metadata": {},
   "source": [
    "https://docs.python.org/3/library/datetime.html#strftime-and-strptime-format-codes"
   ]
  },
  {
   "cell_type": "code",
   "execution_count": 13,
   "metadata": {},
   "outputs": [
    {
     "name": "stdout",
     "output_type": "stream",
     "text": [
      "2023-06-05 12:03:10\n",
      "12\n"
     ]
    }
   ],
   "source": [
    "my_date = '3 mins, 2023/6/5 12 hours, 10 secs'\n",
    "python_date = datetime.datetime.strptime(my_date, '%M mins, %Y/%m/%d %H hours, %S secs')\n",
    "print(python_date)\n",
    "print(python_date.hour)"
   ]
  },
  {
   "cell_type": "code",
   "execution_count": 15,
   "metadata": {},
   "outputs": [
    {
     "name": "stdout",
     "output_type": "stream",
     "text": [
      "Year: 23, month: June, day: 05\n",
      "Year: 24, month: August, day: 02\n"
     ]
    }
   ],
   "source": [
    "# Year: 23, month: June, day: 05\n",
    "\n",
    "human_date = python_date.strftime('Year: %y, month: %B, day: %d')\n",
    "print(human_date)\n",
    "print(datetime.datetime.now().strftime('Year: %y, month: %B, day: %d'))"
   ]
  },
  {
   "cell_type": "markdown",
   "metadata": {},
   "source": [
    "List (dict) comprehension"
   ]
  },
  {
   "cell_type": "code",
   "execution_count": 17,
   "metadata": {},
   "outputs": [
    {
     "name": "stdout",
     "output_type": "stream",
     "text": [
      "[2, 4, 6, 8, 10, 12, 14, 16, 20]\n",
      "[2, 4, 6, 8, 10, 12, 14, 16, 20]\n"
     ]
    }
   ],
   "source": [
    "my_list = [1, 2, 3, 4, 5, 6, 7, 8, 10]\n",
    "\n",
    "new_list = []\n",
    "for x in my_list:\n",
    "    new_list.append(x * 2)\n",
    "\n",
    "print(new_list)\n",
    "\n",
    "new_list2 = [x * 2 for x in my_list]\n",
    "\n",
    "print(new_list2)\n"
   ]
  },
  {
   "cell_type": "code",
   "execution_count": 22,
   "metadata": {},
   "outputs": [
    {
     "name": "stdout",
     "output_type": "stream",
     "text": [
      "[2, 2, 4, 6, 8, 10]\n",
      "{2, 4, 6, 8, 10}\n",
      "<generator object <genexpr> at 0x7c279eba60a0>\n"
     ]
    }
   ],
   "source": [
    "my_list = [2, 2, 3, 4, 5, 6, 7, 8, 10]\n",
    "\n",
    "new_list = []\n",
    "for x in my_list:\n",
    "    if x % 2 == 0:\n",
    "        new_list.append(x)\n",
    "\n",
    "print(new_list)\n",
    "\n",
    "new_list2 = [x for x in my_list if x % 2 == 0]\n",
    "new_list2 = {x for x in my_list if x % 2 == 0}\n",
    "generator = (x for x in my_list if x % 2 == 0)\n",
    "print(new_list2)\n",
    "print(generator)"
   ]
  },
  {
   "cell_type": "code",
   "execution_count": 24,
   "metadata": {},
   "outputs": [
    {
     "name": "stdout",
     "output_type": "stream",
     "text": [
      "<generator object <genexpr> at 0x7c279ebb0900>\n",
      "<generator object ccc at 0x7c279ebb0890>\n",
      "[2, 2, 4, 6, 8, 10]\n",
      "[2, 2, 4, 6, 8, 10]\n"
     ]
    }
   ],
   "source": [
    "generator = (x for x in my_list if x % 2 == 0)\n",
    "\n",
    "def ccc():\n",
    "    for x in my_list:\n",
    "        if x % 2 == 0:\n",
    "            yield x\n",
    "\n",
    "print(generator)\n",
    "print(ccc())\n",
    "\n",
    "print(list(generator))\n",
    "print(list(ccc()))"
   ]
  },
  {
   "cell_type": "code",
   "execution_count": 26,
   "metadata": {},
   "outputs": [
    {
     "name": "stdout",
     "output_type": "stream",
     "text": [
      "{1: 5, 2: 10, 3: 15, 4: 20, 5: 25, 6: 30, 7: 35, 8: 40, 10: 50}\n",
      "{1: 5, 2: 10, 3: 15, 4: 20, 5: 25, 6: 30, 7: 35, 8: 40, 10: 50}\n"
     ]
    }
   ],
   "source": [
    "my_list = [1, 2, 3, 4, 5, 6, 7, 8, 10]\n",
    "\n",
    "new_dict = {}\n",
    "for x in my_list:\n",
    "    new_dict[x] = x * 5\n",
    "\n",
    "print(new_dict)\n",
    "\n",
    "\n",
    "new_dict2 = {x: x * 5 for x in my_list}\n",
    "print(new_dict2)"
   ]
  },
  {
   "cell_type": "code",
   "execution_count": 33,
   "metadata": {},
   "outputs": [
    {
     "name": "stdout",
     "output_type": "stream",
     "text": [
      "{'one': 'two', 'three': 'four'}\n",
      "{'one': 'two', 'three': 'four'}\n",
      "{'one': 'two', 'three': 'four'}\n"
     ]
    }
   ],
   "source": [
    "data = [('one', 'two'), ('three', 'four')]\n",
    "\n",
    "new_dict = {}\n",
    "for key, value in data:\n",
    "    new_dict[key] = value\n",
    "\n",
    "print(new_dict)\n",
    "new_dict2 = {key: value for key, value in data}\n",
    "\n",
    "print(new_dict2)\n",
    "\n",
    "new_dict3 = dict(data)\n",
    "print(new_dict3)"
   ]
  },
  {
   "cell_type": "code",
   "execution_count": 40,
   "metadata": {},
   "outputs": [
    {
     "name": "stdout",
     "output_type": "stream",
     "text": [
      "{'USA': 23, 'Hawaii': 33, 'Cuba': 35}\n"
     ]
    }
   ],
   "source": [
    "countries = ['USA', 'Hawaii', 'Cuba']\n",
    "temps = [23, 33, 35]\n",
    "\n",
    "country_temps = zip(countries, temps)\n",
    "# [('USA', 23), ('Hawaii', 33), ('Cuba', 35)]\n",
    "# print(country_temps)\n",
    "\n",
    "# print(list(country_temps))\n",
    "\n",
    "country_temps_dict = dict(country_temps)\n",
    "print(country_temps_dict)\n"
   ]
  }
 ],
 "metadata": {
  "kernelspec": {
   "display_name": "Python 3",
   "language": "python",
   "name": "python3"
  },
  "language_info": {
   "codemirror_mode": {
    "name": "ipython",
    "version": 3
   },
   "file_extension": ".py",
   "mimetype": "text/x-python",
   "name": "python",
   "nbconvert_exporter": "python",
   "pygments_lexer": "ipython3",
   "version": "3.10.12"
  }
 },
 "nbformat": 4,
 "nbformat_minor": 2
}
