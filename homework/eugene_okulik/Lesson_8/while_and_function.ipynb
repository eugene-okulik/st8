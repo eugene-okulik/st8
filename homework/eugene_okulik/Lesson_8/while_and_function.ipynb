{
 "cells": [
  {
   "cell_type": "markdown",
   "metadata": {},
   "source": [
    "# While loop - цикл while"
   ]
  },
  {
   "cell_type": "code",
   "execution_count": 2,
   "metadata": {},
   "outputs": [
    {
     "name": "stdout",
     "output_type": "stream",
     "text": [
      "hello\n",
      "hello\n",
      "hello\n",
      "hello\n",
      "hello\n",
      "end\n"
     ]
    }
   ],
   "source": [
    "i = 0\n",
    "\n",
    "while i < 5:\n",
    "    print('hello')\n",
    "    i += 1\n",
    "\n",
    "print('end')"
   ]
  },
  {
   "cell_type": "code",
   "execution_count": 3,
   "metadata": {},
   "outputs": [
    {
     "name": "stdout",
     "output_type": "stream",
     "text": [
      "umbrella\n",
      "umbrella\n",
      "umbrella\n",
      "umbrella\n",
      "umbrella\n"
     ]
    }
   ],
   "source": [
    "weather = input('What is the weather now? ')\n",
    "# rain sun clouds\n",
    "while weather == 'rain':\n",
    "    print('umbrella')\n",
    "    weather = input('What is the weather now? ')\n",
    "\n"
   ]
  },
  {
   "cell_type": "code",
   "execution_count": 3,
   "metadata": {},
   "outputs": [
    {
     "name": "stdout",
     "output_type": "stream",
     "text": [
      "umbrella\n",
      "next cycle\n",
      "umbrella\n",
      "next cycle\n",
      "umbrella\n",
      "next cycle\n"
     ]
    }
   ],
   "source": [
    "# rain sun clouds unclear\n",
    "\n",
    "while True:\n",
    "    weather = input('What is the weather now? ')\n",
    "    if weather == 'rain':\n",
    "        print('umbrella')\n",
    "    elif weather == 'unclear':\n",
    "        continue\n",
    "    else:\n",
    "        break\n",
    "    print('next cycle')"
   ]
  },
  {
   "cell_type": "code",
   "execution_count": 4,
   "metadata": {},
   "outputs": [
    {
     "name": "stdout",
     "output_type": "stream",
     "text": [
      "John\n",
      "Tim\n",
      "James\n",
      "Jim\n"
     ]
    }
   ],
   "source": [
    "names = ['John', 'Tim', 'James', 'Bob', 'Jim', 'Bill', 'Beam']\n",
    "\n",
    "for one_name in names:\n",
    "    if one_name.startswith('B'):\n",
    "        continue\n",
    "    print(one_name)"
   ]
  },
  {
   "cell_type": "code",
   "execution_count": 7,
   "metadata": {},
   "outputs": [
    {
     "name": "stdout",
     "output_type": "stream",
     "text": [
      "John\n",
      "tim\n",
      "James\n",
      "bob\n",
      "Jim\n",
      "bill\n",
      "Beam\n"
     ]
    }
   ],
   "source": [
    "names = ['John', 'Tim', 'James', 'Bob', 'Jim', 'Bill', 'Beam']\n",
    "\n",
    "count = 0\n",
    "\n",
    "for name in names:\n",
    "    count += 1\n",
    "    if count % 2 == 0:\n",
    "        print(name.lower())\n",
    "    else:\n",
    "        print(name)"
   ]
  },
  {
   "cell_type": "code",
   "execution_count": 8,
   "metadata": {},
   "outputs": [
    {
     "name": "stdout",
     "output_type": "stream",
     "text": [
      "(0, 'John')\n",
      "(1, 'Tim')\n",
      "(2, 'James')\n",
      "(3, 'Bob')\n",
      "(4, 'Jim')\n",
      "(5, 'Bill')\n",
      "(6, 'Beam')\n"
     ]
    }
   ],
   "source": [
    "names = ['John', 'Tim', 'James', 'Bob', 'Jim', 'Bill', 'Beam']\n",
    "\n",
    "for name in enumerate(names):\n",
    "    print(name)"
   ]
  },
  {
   "cell_type": "code",
   "execution_count": 10,
   "metadata": {},
   "outputs": [
    {
     "name": "stdout",
     "output_type": "stream",
     "text": [
      "0 John\n",
      "1 Tim\n",
      "2 James\n",
      "3 Bob\n",
      "4 Jim\n",
      "5 Bill\n",
      "6 Beam\n"
     ]
    }
   ],
   "source": [
    "names = ['John', 'Tim', 'James', 'Bob', 'Jim', 'Bill', 'Beam']\n",
    "\n",
    "for element in enumerate(names):\n",
    "    num, name = element\n",
    "    print(num, name)"
   ]
  },
  {
   "cell_type": "code",
   "execution_count": 11,
   "metadata": {},
   "outputs": [
    {
     "name": "stdout",
     "output_type": "stream",
     "text": [
      "0 John\n",
      "1 Tim\n",
      "2 James\n",
      "3 Bob\n",
      "4 Jim\n",
      "5 Bill\n",
      "6 Beam\n"
     ]
    }
   ],
   "source": [
    "names = ['John', 'Tim', 'James', 'Bob', 'Jim', 'Bill', 'Beam']\n",
    "\n",
    "for num, name in enumerate(names):\n",
    "    print(num, name)"
   ]
  },
  {
   "cell_type": "code",
   "execution_count": 12,
   "metadata": {},
   "outputs": [
    {
     "name": "stdout",
     "output_type": "stream",
     "text": [
      "john\n",
      "Tim\n",
      "james\n",
      "Bob\n",
      "jim\n",
      "Bill\n",
      "beam\n"
     ]
    }
   ],
   "source": [
    "names = ['John', 'Tim', 'James', 'Bob', 'Jim', 'Bill', 'Beam']\n",
    "\n",
    "for num, name in enumerate(names):\n",
    "    if num % 2 == 0:\n",
    "        print(name.lower())\n",
    "    else:\n",
    "        print(name)"
   ]
  },
  {
   "cell_type": "code",
   "execution_count": 14,
   "metadata": {},
   "outputs": [
    {
     "name": "stdout",
     "output_type": "stream",
     "text": [
      "John\n",
      "tim\n",
      "James\n",
      "bob\n",
      "Jim\n",
      "bill\n",
      "Beam\n"
     ]
    }
   ],
   "source": [
    "names = ['John', 'Tim', 'James', 'Bob', 'Jim', 'Bill', 'Beam']\n",
    "\n",
    "for num, name in enumerate(names):\n",
    "    if (num + 1) % 2 == 0:\n",
    "        print(name.lower())\n",
    "    else:\n",
    "        print(name)"
   ]
  },
  {
   "cell_type": "markdown",
   "metadata": {},
   "source": [
    "# Functions"
   ]
  },
  {
   "cell_type": "markdown",
   "metadata": {},
   "source": [
    "Это самые основные программные структуры в языке Python, позволяющие многократное использование программного кода и уменьшающие его избыточность. Так же позволяют разбить сложную систему на достаточно простые и легко управляемые части. Они могут принимать аргументы и возвращать результаты выполнения."
   ]
  },
  {
   "cell_type": "markdown",
   "metadata": {},
   "source": [
    "DRY - don't repeat yourself"
   ]
  },
  {
   "cell_type": "code",
   "execution_count": null,
   "metadata": {},
   "outputs": [],
   "source": [
    "a = 1\n",
    "b = 5\n",
    "c = 4\n",
    "d = 7\n",
    "\n",
    "\n",
    "main_number = 42\n",
    "\n",
    "user_input = int(input('number'))\n",
    "if user_input == 0:\n",
    "    print(a)\n",
    "else:\n",
    "    print(a + main_number)\n",
    "if user_input == 0:\n",
    "    print(b)\n",
    "else:\n",
    "    print(b + main_number)\n",
    "if user_input == 0:\n",
    "    print(c)\n",
    "else:\n",
    "    print(c + main_number)\n",
    "if user_input == 0:\n",
    "    print(d)\n",
    "else:\n",
    "    print(d + main_number)\n"
   ]
  },
  {
   "cell_type": "code",
   "execution_count": 20,
   "metadata": {},
   "outputs": [
    {
     "name": "stdout",
     "output_type": "stream",
     "text": [
      "51\n",
      "1\n",
      "47\n"
     ]
    }
   ],
   "source": [
    "a = 1\n",
    "b = 5\n",
    "c = 4\n",
    "d = 7\n",
    "\n",
    "def calc(number):\n",
    "    main_number = 42\n",
    "\n",
    "    user_input = int(input('enter the numb'))\n",
    "    if user_input == 0:\n",
    "        print(number)\n",
    "    else:\n",
    "        print(number + main_number)\n",
    "\n",
    "calc(9)\n",
    "calc(a)\n",
    "calc(b)"
   ]
  },
  {
   "cell_type": "code",
   "execution_count": 25,
   "metadata": {},
   "outputs": [
    {
     "name": "stdout",
     "output_type": "stream",
     "text": [
      "Starting......\n",
      ".......Ending\n",
      ".......Ending\n"
     ]
    }
   ],
   "source": [
    "def start():\n",
    "    print('Starting......')\n",
    "\n",
    "start()\n",
    "\n",
    "def end():\n",
    "    print('.......Ending')\n",
    "\n",
    "user_input = 'ok!'\n",
    "if user_input == 'ok':\n",
    "    start()\n",
    "else:\n",
    "    end()"
   ]
  },
  {
   "cell_type": "code",
   "execution_count": 32,
   "metadata": {},
   "outputs": [
    {
     "name": "stdout",
     "output_type": "stream",
     "text": [
      "7\n",
      "4\n"
     ]
    }
   ],
   "source": [
    "def calc(x, y):\n",
    "    result = x + y\n",
    "    return result\n",
    "\n",
    "\n",
    "calc_result = calc(2, 5)\n",
    "print(calc_result)\n",
    "print(calc(3, 1))\n",
    "\n",
    "a = 1  # заглушка для юпитер ноутбука, код в строке ничего не значит"
   ]
  },
  {
   "cell_type": "code",
   "execution_count": 42,
   "metadata": {},
   "outputs": [
    {
     "name": "stdout",
     "output_type": "stream",
     "text": [
      "None\n"
     ]
    }
   ],
   "source": [
    "def simple(x, y):\n",
    "    result = x + y\n",
    "\n",
    "\n",
    "print(simple(3, 5))"
   ]
  },
  {
   "cell_type": "code",
   "execution_count": 37,
   "metadata": {},
   "outputs": [
    {
     "name": "stdout",
     "output_type": "stream",
     "text": [
      "qwe\n",
      "None\n"
     ]
    }
   ],
   "source": [
    "print_result = print('qwe')\n",
    "print(print_result)"
   ]
  }
 ],
 "metadata": {
  "kernelspec": {
   "display_name": "Python 3",
   "language": "python",
   "name": "python3"
  },
  "language_info": {
   "codemirror_mode": {
    "name": "ipython",
    "version": 3
   },
   "file_extension": ".py",
   "mimetype": "text/x-python",
   "name": "python",
   "nbconvert_exporter": "python",
   "pygments_lexer": "ipython3",
   "version": "3.10.12"
  }
 },
 "nbformat": 4,
 "nbformat_minor": 2
}
