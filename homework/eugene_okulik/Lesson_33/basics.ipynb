{
 "cells": [
  {
   "cell_type": "markdown",
   "metadata": {},
   "source": [
    "# Playwright"
   ]
  },
  {
   "cell_type": "markdown",
   "metadata": {},
   "source": [
    "## Установка"
   ]
  },
  {
   "cell_type": "code",
   "execution_count": null,
   "metadata": {
    "vscode": {
     "languageId": "shellscript"
    }
   },
   "outputs": [],
   "source": [
    "pip install pytest-playwright\n",
    "playwright install"
   ]
  },
  {
   "cell_type": "code",
   "execution_count": 4,
   "metadata": {},
   "outputs": [],
   "source": [
    "from playwright.sync_api import Page, expect"
   ]
  },
  {
   "cell_type": "markdown",
   "metadata": {},
   "source": [
    "### Простой тест"
   ]
  },
  {
   "cell_type": "code",
   "execution_count": 5,
   "metadata": {},
   "outputs": [],
   "source": [
    "import re\n",
    "\n",
    "\n",
    "def test_one(page: Page):\n",
    "    page.goto('https://www.google.com')\n",
    "    search_field = page.get_by_role('combobox')\n",
    "    search_field.fill('cat')\n",
    "    page.keyboard.press('Enter')\n",
    "    expect(page).to_have_title(re.compile('^cat'))"
   ]
  },
  {
   "cell_type": "markdown",
   "metadata": {},
   "source": [
    "## Поиск элементов - локаторы\n",
    "\n",
    "- get_by_role - поиск по роли элемента, которую он выполняет на странице ([роли](https://www.w3.org/TR/html-aria/#docconformance))\n",
    "- get_by_text() - поиск по видимому тексту\n",
    "- get_by_label() - поиск по label искомого элемента\n",
    "- get_by_placeholder() - поиск по плейсхолдеру элемента (атрибуту placeholder)\n",
    "- get_by_alt_text() - поиск элемента, чаще всего картинки, по альтернативному тексту (атрибуту alt-text)\n",
    "- get_by_title() - поиск элемента по атрибуту title\n",
    "- get_by_test_id() - поиск элемента по атрибуту data-testid\n",
    "- locator - поиск элемента по css или xpath селектору."
   ]
  },
  {
   "cell_type": "markdown",
   "metadata": {},
   "source": [
    "## Действия с элементами\n",
    "\n",
    "- click - клик\n",
    "- dblclick - даблклик\n",
    "- fill - ввод данных в поле\n",
    "- press_sequentially - ввод текста по букве (эмуляция действий пользователя)\n",
    "- check - кликнуть чекбокс\n",
    "- press - нажать клавишу ([клавиши](https://developer.mozilla.org/en-US/docs/Web/API/UI_Events/Keyboard_event_key_values))"
   ]
  },
  {
   "cell_type": "markdown",
   "metadata": {},
   "source": [
    "## Проверка ожидаемого результата\n",
    "\n",
    "- to_be_visible()   Элемент видим на странице\n",
    "- to_be_enabled()\tЭлемент активен\n",
    "- to_be_disabled()\tЭлемент не активен\n",
    "- to_have_text()\tТочная проверка текста, содержащегося в элементе\n",
    "- to_contain_text()\tПроверка что часть текста соответствует ожидаемому тексту\n",
    "- to_have_value()\tПоле для ввода содержит значение\n",
    "- to_have_title()\tПроверка тайтла страницы\n",
    "- to_have_url()\tПроверка урла  \n",
    "---\n",
    "- to_be_focused()\tЭлемент в фокусе\n",
    "- to_be_checked()\tЧекбокс выбран\n",
    "- to_be_editable()\tЭлемент редактируемый\n",
    "- to_be_empty()\tКонтейнер пустой\n",
    "- to_be_hidden()\tЭлемент скрыт\n",
    "- to_be_in_viewport()\tЭлемент находится в отображаемой зоне страницы\n",
    "- to_have_attribute()\tУ элемента есть указанный атрибут\n",
    "- to_have_class()\tУ элемента есть указанный класс\n",
    "- to_have_count()\tВ списке находится указанное кличество элементов\n",
    "- to_have_css()\tУ элемента есть указанное CSS свойство\n",
    "- to_have_id()\tУ элемента есть указанный ID\n",
    "- to_have_js_property()\tУ элемента есть указанное JavaScript свойство\n",
    "- to_have_values()\tЭлемент содержит указанные значения\n",
    "- to_be_ok()\tСервер вернул статус код 200"
   ]
  }
 ],
 "metadata": {
  "kernelspec": {
   "display_name": "Python 3 (ipykernel)",
   "language": "python",
   "name": "python3"
  },
  "language_info": {
   "codemirror_mode": {
    "name": "ipython",
    "version": 3
   },
   "file_extension": ".py",
   "mimetype": "text/x-python",
   "name": "python",
   "nbconvert_exporter": "python",
   "pygments_lexer": "ipython3",
   "version": "3.10.12"
  }
 },
 "nbformat": 4,
 "nbformat_minor": 2
}
