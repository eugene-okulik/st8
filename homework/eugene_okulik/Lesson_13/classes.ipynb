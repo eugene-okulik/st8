{
 "cells": [
  {
   "cell_type": "code",
   "execution_count": 16,
   "metadata": {},
   "outputs": [
    {
     "name": "stdout",
     "output_type": "stream",
     "text": [
      "42\n",
      "6\n",
      "left\n",
      "1A\n",
      "Бежать бегом\n",
      "sit down and read\n",
      "Marivanna\n",
      "14\n",
      "42\n",
      "sit down and read\n",
      "11B\n",
      "maths\n",
      "Чинно расхаживать\n"
     ]
    }
   ],
   "source": [
    "class SchoolGroup:\n",
    "    school_name = 42\n",
    "    director = 'Marivanna'\n",
    "    pupils = True\n",
    "\n",
    "    def __init__(self, title, group_leader, pupils_count, group_room, deviz=None):\n",
    "        self.title = title\n",
    "        self.group_leader = group_leader\n",
    "        self.pupils_count = pupils_count\n",
    "        self.group_room = group_room\n",
    "        self.deviz = deviz\n",
    "        # self = текущий объект\n",
    "        \n",
    "\n",
    "    def study(self):\n",
    "        print('sit down and read')\n",
    "\n",
    "    def move(self):\n",
    "        print('Идти пешком')\n",
    "\n",
    "\n",
    "class PrimaryGroup(SchoolGroup):\n",
    "    min_age = 6\n",
    "    max_age = 11\n",
    "    section = 'left'\n",
    "\n",
    "    def move(self):\n",
    "        print('Бежать бегом')\n",
    "\n",
    "\n",
    "class MiddleGroup(SchoolGroup):\n",
    "    min_age = 11\n",
    "    max_age = 14\n",
    "    \n",
    "\n",
    "class HighGroup(SchoolGroup):\n",
    "    min_age = 14\n",
    "    max_age = 17\n",
    "\n",
    "    def __init__(self, title, group_leader, pupils_count, group_room, specialiity, deviz=None):\n",
    "        super().__init__(title, group_leader, pupils_count, group_room, deviz)\n",
    "        self.speciality = specialiity\n",
    "        \n",
    "\n",
    "    def move(self):\n",
    "        print('Чинно расхаживать')\n",
    "\n",
    "\n",
    "\n",
    "one_a = PrimaryGroup(title='1A', group_leader = 'ART', pupils_count=23, group_room='312')\n",
    "eleven_b = HighGroup(title='11B', group_leader = 'SV', pupils_count=25, group_room='215', speciality='maths', deviz='Дальше больше сильнее')\n",
    "\n",
    "print(one_a.school_name)\n",
    "print(one_a.min_age)\n",
    "print(one_a.section)\n",
    "print(one_a.title)\n",
    "one_a.move()\n",
    "one_a.study()\n",
    "print(eleven_b.director)\n",
    "print(eleven_b.min_age)\n",
    "print(eleven_b.school_name)\n",
    "eleven_b.study()\n",
    "print(eleven_b.title)\n",
    "print(eleven_b.speciality)\n",
    "eleven_b.move()\n"
   ]
  }
 ],
 "metadata": {
  "kernelspec": {
   "display_name": "Python 3",
   "language": "python",
   "name": "python3"
  },
  "language_info": {
   "codemirror_mode": {
    "name": "ipython",
    "version": 3
   },
   "file_extension": ".py",
   "mimetype": "text/x-python",
   "name": "python",
   "nbconvert_exporter": "python",
   "pygments_lexer": "ipython3",
   "version": "3.10.12"
  }
 },
 "nbformat": 4,
 "nbformat_minor": 2
}
