{
 "cells": [
  {
   "cell_type": "markdown",
   "metadata": {},
   "source": [
    "# Conditions (условия)"
   ]
  },
  {
   "cell_type": "code",
   "execution_count": 12,
   "metadata": {},
   "outputs": [
    {
     "name": "stdout",
     "output_type": "stream",
     "text": [
      "False\n",
      "не бери зонт\n",
      "sdkjfhksdjfh\n",
      "end\n"
     ]
    }
   ],
   "source": [
    "import random\n",
    "\n",
    "rain = random.choice([False, True])\n",
    "print(rain)\n",
    "\n",
    "if rain is True:\n",
    "    print('взять зонт')\n",
    "else:\n",
    "    print('не бери зонт')\n",
    "    print('sdkjfhksdjfh')\n",
    "\n",
    "print('end')\n"
   ]
  },
  {
   "cell_type": "code",
   "execution_count": 18,
   "metadata": {},
   "outputs": [
    {
     "name": "stdout",
     "output_type": "stream",
     "text": [
      "3\n",
      "можно без зонта\n"
     ]
    }
   ],
   "source": [
    "import random\n",
    "\n",
    "rain_intensity = random.choice([3, 5, 7, 10, 15])\n",
    "print(rain_intensity)\n",
    "\n",
    "if rain_intensity < 6:\n",
    "    print('можно без зонта')\n",
    "elif rain_intensity < 11:\n",
    "    print('возьми зонт')\n",
    "else:\n",
    "    print('зонт не поможет')\n"
   ]
  },
  {
   "cell_type": "code",
   "execution_count": 44,
   "metadata": {},
   "outputs": [
    {
     "name": "stdout",
     "output_type": "stream",
     "text": [
      "()\n",
      "falses contains false value\n",
      "True\n",
      "magic\n"
     ]
    }
   ],
   "source": [
    "import random\n",
    "\n",
    "falses = random.choice(['', None, False, 0, [], (), {}, set()])\n",
    "print(falses)\n",
    "trues = random.choice(['False', True, 5, [3, 4], (4, 7), {1: 5}, {1, 4}])\n",
    "\n",
    "if falses:\n",
    "    print('magic')\n",
    "else:\n",
    "    print('falses contains false value')\n",
    "\n",
    "print(trues)\n",
    "if trues:\n",
    "    print('magic')\n",
    "else:\n",
    "    print('falses contains false value')"
   ]
  },
  {
   "cell_type": "code",
   "execution_count": 46,
   "metadata": {},
   "outputs": [
    {
     "name": "stdout",
     "output_type": "stream",
     "text": [
      "Дождь: False\n",
      "дождя нет\n",
      "не бери зонт\n"
     ]
    }
   ],
   "source": [
    "import random\n",
    "\n",
    "rain = random.choice([False, True])\n",
    "print('Дождь:', rain)\n",
    "if rain:\n",
    "    rain_intensity = random.choice([3, 5, 7, 10, 15])\n",
    "    print('Интенсивность:', rain_intensity)\n",
    "else:\n",
    "    print('дождя нет')\n",
    "\n",
    "\n",
    "\n",
    "if rain:\n",
    "    if rain_intensity < 6:\n",
    "        print('не бери зонт')\n",
    "    elif rain_intensity < 11:\n",
    "        print('возьми зонт')\n",
    "    else:\n",
    "        if rain_intensity < 25:\n",
    "            print('зонт не поможет')\n",
    "        else:\n",
    "            print('возьми лодку')\n",
    "else:\n",
    "    print('не бери зонт')"
   ]
  },
  {
   "cell_type": "code",
   "execution_count": 47,
   "metadata": {},
   "outputs": [
    {
     "name": "stdout",
     "output_type": "stream",
     "text": [
      "3\n",
      "возьми зонт\n"
     ]
    }
   ],
   "source": [
    "import random\n",
    "\n",
    "rain_intensity = random.choice([3, 5, 7, 10, 15])\n",
    "print(rain_intensity)\n",
    "\n",
    "if 6 <= rain_intensity < 11:\n",
    "# if rain_intensity >=6 and rain_intensity < 11:\n",
    "    print('можно без зонта')\n",
    "elif rain_intensity < 6:\n",
    "    print('возьми зонт')\n",
    "else:\n",
    "    print('зонт не поможет')"
   ]
  },
  {
   "cell_type": "markdown",
   "metadata": {},
   "source": [
    "# Циклы - loops"
   ]
  },
  {
   "cell_type": "markdown",
   "metadata": {},
   "source": [
    "### Цикл for - for loop"
   ]
  },
  {
   "cell_type": "code",
   "execution_count": 52,
   "metadata": {},
   "outputs": [
    {
     "name": "stdout",
     "output_type": "stream",
     "text": [
      "John\n",
      "Tim\n",
      "James\n",
      "Bob\n",
      "Jim\n",
      "Bill\n",
      "Beam\n",
      "end\n"
     ]
    }
   ],
   "source": [
    "names = ['John', 'Tim', 'James', 'Bob', 'Jim', 'Bill', 'Beam']\n",
    "# print(names[0])\n",
    "# print(names[1])\n",
    "# print(names[2])\n",
    "# print(names[3])\n",
    "# print(names[4])\n",
    "# print(names[5])\n",
    "# print(names[6])\n",
    "\n",
    "for one_name in names:\n",
    "    print(one_name)\n",
    "\n",
    "print('end')"
   ]
  },
  {
   "cell_type": "code",
   "execution_count": 54,
   "metadata": {},
   "outputs": [
    {
     "name": "stdout",
     "output_type": "stream",
     "text": [
      "1\n",
      "2\n",
      "3\n",
      "4\n"
     ]
    }
   ],
   "source": [
    "my_range = range(1, 5)\n",
    "for num in my_range:\n",
    "    print(num)"
   ]
  },
  {
   "cell_type": "code",
   "execution_count": 56,
   "metadata": {},
   "outputs": [
    {
     "name": "stdout",
     "output_type": "stream",
     "text": [
      "Hello\n",
      "Hello\n",
      "Hello\n",
      "Hello\n",
      "Hello\n"
     ]
    }
   ],
   "source": [
    "for _ in range(5):\n",
    "    print('Hello')"
   ]
  },
  {
   "cell_type": "code",
   "execution_count": 61,
   "metadata": {},
   "outputs": [
    {
     "name": "stdout",
     "output_type": "stream",
     "text": [
      "Mr.Jim\n",
      "Bill\n",
      "Mr.John\n",
      "Tim\n",
      "Bob\n",
      "Beam\n",
      "Mr.James\n"
     ]
    }
   ],
   "source": [
    "# names = ['John', 'Tim', 'James', 'Bob', 'Jim', 'Bill', 'Beam']\n",
    "names = {'John', 'Tim', 'James', 'Bob', 'Jim', 'Bill', 'Beam'}\n",
    "# names = ('John', 'Tim', 'James', 'Bob', 'Jim', 'Bill', 'Beam')\n",
    "\n",
    "\n",
    "for name in names:\n",
    "    if name.startswith('J'):\n",
    "        print('Mr.', end='')\n",
    "    print(name)\n",
    "\n",
    "\n"
   ]
  },
  {
   "cell_type": "code",
   "execution_count": 62,
   "metadata": {},
   "outputs": [
    {
     "name": "stdout",
     "output_type": "stream",
     "text": [
      "John\n",
      "Tom\n",
      "James\n"
     ]
    }
   ],
   "source": [
    "persons = {'John': 132, 'Tom': 167, 'James': 214}\n",
    "\n",
    "for person in persons:\n",
    "    print(person)"
   ]
  },
  {
   "cell_type": "code",
   "execution_count": 63,
   "metadata": {},
   "outputs": [
    {
     "name": "stdout",
     "output_type": "stream",
     "text": [
      "132\n",
      "167\n",
      "214\n"
     ]
    }
   ],
   "source": [
    "persons = {'John': 132, 'Tom': 167, 'James': 214}\n",
    "\n",
    "for person in persons:\n",
    "    print(persons[person])"
   ]
  },
  {
   "cell_type": "code",
   "execution_count": 64,
   "metadata": {},
   "outputs": [
    {
     "name": "stdout",
     "output_type": "stream",
     "text": [
      "John: 132\n",
      "Tom: 167\n",
      "James: 214\n"
     ]
    }
   ],
   "source": [
    "persons = {'John': 132, 'Tom': 167, 'James': 214}\n",
    "\n",
    "for person in persons:\n",
    "    print(f'{person}: {persons[person]}')"
   ]
  },
  {
   "cell_type": "code",
   "execution_count": 66,
   "metadata": {},
   "outputs": [
    {
     "name": "stdout",
     "output_type": "stream",
     "text": [
      "dict_items([('John', 132), ('Tom', 167), ('James', 214)])\n",
      "('John', 132)\n",
      "('Tom', 167)\n",
      "('James', 214)\n"
     ]
    }
   ],
   "source": [
    "persons = {'John': 132, 'Tom': 167, 'James': 214}\n",
    "print(persons.items())\n",
    "for person in persons.items():\n",
    "    print(person)"
   ]
  },
  {
   "cell_type": "code",
   "execution_count": 67,
   "metadata": {},
   "outputs": [
    {
     "name": "stdout",
     "output_type": "stream",
     "text": [
      "John 132\n",
      "Tom 167\n",
      "James 214\n"
     ]
    }
   ],
   "source": [
    "persons = {'John': 132, 'Tom': 167, 'James': 214}\n",
    "\n",
    "for person in persons.items():\n",
    "    name, weight = person\n",
    "    print(name, weight)"
   ]
  },
  {
   "cell_type": "code",
   "execution_count": 68,
   "metadata": {},
   "outputs": [
    {
     "name": "stdout",
     "output_type": "stream",
     "text": [
      "John 132\n",
      "Tom 167\n",
      "James 214\n"
     ]
    }
   ],
   "source": [
    "persons = {'John': 132, 'Tom': 167, 'James': 214}\n",
    "\n",
    "for name, weight in persons.items():\n",
    "    print(name, weight)"
   ]
  },
  {
   "cell_type": "code",
   "execution_count": 69,
   "metadata": {},
   "outputs": [
    {
     "name": "stdout",
     "output_type": "stream",
     "text": [
      "John 132\n",
      "Tom 167\n",
      "James 214\n"
     ]
    }
   ],
   "source": [
    "something = {'xxx': 132, 'yyy': 167, 'www': 214}\n",
    "\n",
    "for key, value in persons.items():\n",
    "    print(key, value)"
   ]
  }
 ],
 "metadata": {
  "kernelspec": {
   "display_name": "Python 3",
   "language": "python",
   "name": "python3"
  },
  "language_info": {
   "codemirror_mode": {
    "name": "ipython",
    "version": 3
   },
   "file_extension": ".py",
   "mimetype": "text/x-python",
   "name": "python",
   "nbconvert_exporter": "python",
   "pygments_lexer": "ipython3",
   "version": "3.10.12"
  }
 },
 "nbformat": 4,
 "nbformat_minor": 2
}
