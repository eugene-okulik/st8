{
 "cells": [
  {
   "cell_type": "markdown",
   "metadata": {},
   "source": [
    "# Python"
   ]
  },
  {
   "cell_type": "markdown",
   "metadata": {},
   "source": [
    "## Идентификаторы\n",
    "Идентификаторы в Python это имена используемые для обозначения переменной, функции, класса, модуля или другого объекта.\n",
    "\n",
    "Правила для написания идентификаторов:\n",
    "Идентификаторы могут быть комбинацией букв в нижнем регистре (a - z) или верхнего регистра (A - Z) или цифр (0 - 9) или подчеркивание _. Например: myClass, var_1 и print_this_to_screen.\n",
    "Идентификатор не может начинаться с цифры. 1variable неправильно, но variable1 правильно.\n",
    "Ключевые слова не могут использоваться как идентификаторы.\n",
    "Нельзя использовать специальные символы !, @, #, $, %. Идентификаторы могут быть любой длины.\n",
    "![](2022-11-16_19-17.png)"
   ]
  },
  {
   "cell_type": "markdown",
   "metadata": {},
   "source": [
    "Зарезервированные слова\n",
    "\n",
    "Мы не можем использовать ключевые слова как имена переменных, имена функций или какой-нибудь любой другой идентификатор.\n",
    "\n",
    "Они используются, для определения синтаксиса и структуры в языке Python. Ключевые слова регистрозависимые.\n",
    "\n",
    "Все слова за исключением True, False и None в маленьком регистре.  \n",
    "![](2022-11-16_19-20.png)"
   ]
  },
  {
   "cell_type": "markdown",
   "metadata": {},
   "source": [
    "Python – регистрозависимый язык. Это означает, что `Variable` и `variable` не одно и тоже.  \n",
    "Называйте идентификаторы осмысленно.  \n",
    "Несколько слов могут быть разделены подчеркиванием this_is_a_long_variable.  \n",
    "`snake_case` (undercore notation) - стандарт для именования всего кроме классов"
   ]
  },
  {
   "cell_type": "markdown",
   "metadata": {},
   "source": [
    "## Основные типы данных"
   ]
  },
  {
   "cell_type": "markdown",
   "metadata": {},
   "source": [
    "1. int - integer - целые числа (4)\n",
    "2. float - числа с плавающей точкой (4.2)\n",
    "3. str - string - строки ('My cool text')\n",
    "4. bool - boolean - логические значения: True или False \n",
    "\n",
    "Это не все типы данных, а только основные."
   ]
  },
  {
   "cell_type": "code",
   "execution_count": 3,
   "metadata": {},
   "outputs": [
    {
     "name": "stdout",
     "output_type": "stream",
     "text": [
      "42\n",
      "4.2\n",
      "text\n",
      "True\n"
     ]
    }
   ],
   "source": [
    "print(42)\n",
    "print(4.2)\n",
    "print(\"text\")\n",
    "print(True)"
   ]
  },
  {
   "cell_type": "code",
   "execution_count": 5,
   "metadata": {},
   "outputs": [
    {
     "name": "stdout",
     "output_type": "stream",
     "text": [
      "52\n",
      "52\n",
      "52\n"
     ]
    }
   ],
   "source": [
    "print(52)\n",
    "print(52)\n",
    "print(52)"
   ]
  },
  {
   "cell_type": "markdown",
   "metadata": {},
   "source": [
    "## Переменная"
   ]
  },
  {
   "cell_type": "markdown",
   "metadata": {},
   "source": [
    "Именованный участок памяти, обладающий некоторым типом.  \n",
    "\n",
    "Таким образом, в Python у переменной всегда есть:  \n",
    "Имя (название)  \n",
    "Значение  \n",
    "![](img/2022-11-16_19-39.png)"
   ]
  },
  {
   "cell_type": "code",
   "execution_count": 7,
   "metadata": {},
   "outputs": [
    {
     "name": "stdout",
     "output_type": "stream",
     "text": [
      "62\n",
      "62\n",
      "62\n"
     ]
    }
   ],
   "source": [
    "data_number = 62\n",
    "print(data_number)\n",
    "print(data_number)\n",
    "print(data_number)"
   ]
  },
  {
   "cell_type": "markdown",
   "metadata": {},
   "source": [
    "Переменная - это элемент, который хранит в себе какие либо данные.  \n",
    "Если мы создали переменную, то она никогда не бывает абсолютно пустой. В ней может храниться, например, пустая строка. Тогда переменная хранит строку, которая пустая. И хранит ее до тех пор, пока программа не завершит работу."
   ]
  },
  {
   "cell_type": "code",
   "execution_count": null,
   "metadata": {},
   "outputs": [],
   "source": [
    "data = \"\""
   ]
  },
  {
   "cell_type": "markdown",
   "metadata": {},
   "source": [
    "### Объявление переменной"
   ]
  },
  {
   "cell_type": "markdown",
   "metadata": {},
   "source": [
    "Переменные в Python не типизированные. Это значит, что при создании переменной не нужно указывать какой тип данных в ней будет храниться. Более того, переменную не нужно объявлять заранее, до того как присвоить ей какие-либо данные. Объявление переменной происходит простым присвоением ей значения:"
   ]
  },
  {
   "cell_type": "code",
   "execution_count": 9,
   "metadata": {},
   "outputs": [
    {
     "name": "stdout",
     "output_type": "stream",
     "text": [
      "<class 'int'>\n",
      "<class 'str'>\n"
     ]
    }
   ],
   "source": [
    "a = 45\n",
    "print(type(a))\n",
    "\n",
    "a = \"text\"\n",
    "print(type(a))"
   ]
  },
  {
   "cell_type": "markdown",
   "metadata": {},
   "source": [
    "## Операторы"
   ]
  },
  {
   "cell_type": "markdown",
   "metadata": {},
   "source": [
    "![](img/2022-11-16_19-45.png)"
   ]
  },
  {
   "cell_type": "markdown",
   "metadata": {},
   "source": [
    "### Арифметические операторы"
   ]
  },
  {
   "cell_type": "markdown",
   "metadata": {},
   "source": [
    "| Операция                 | Описание                                                      | Пример                  |\n",
    "|--------------------------|---------------------------------------------------------------|-------------------------|\n",
    "| сложение +               | Складывает значение операндов слева и справа от оператора     | 10 + 20 = 30            |\n",
    "| вычитание -              | Вычитает из левого операнда правый                            | 20 - 10 = 10            |\n",
    "| умножение *              | Перемножает левый и правый операнды                           | 10 * 20 = 200           |\n",
    "| деление /                | Делит левый операнд на правый                                 | 20 / 10 = 2             |\n",
    "| остаток от деления %     | Делит левый операнд на правый и возвращает остаток от деления | 20 % 10 = 0 42 % 10 = 2 |\n",
    "| возведение в степень **  | Возводит левый операнд в степень равную правому               | 5 ** 2 = 25             |\n",
    "| целочисленное деление // | Делит левый операнд на правый и оставляет только целую часть  | 9 // 2 = 4              |"
   ]
  },
  {
   "cell_type": "markdown",
   "metadata": {},
   "source": [
    "### Порядок операций"
   ]
  },
  {
   "cell_type": "markdown",
   "metadata": {},
   "source": [
    "Если в выражении встречается больше, чем один оператор, то порядок вычислений зависит от правил старшинства (rules of precedence). Для математических операций, Python следует математическим соглашениям. Аббревиатура PEMDAS является простым способом для запоминания правил:  \n",
    "\n",
    "1. Parentheses - Скобки\n",
    "2. Exponentiation - Возведение в степень\n",
    "3. Multiplication - Умножение\n",
    "4. Division - Деление  \n",
    "5. Addition - Сложение \n",
    "6. Subtraction - Вычитания"
   ]
  },
  {
   "cell_type": "code",
   "execution_count": 11,
   "metadata": {},
   "outputs": [
    {
     "name": "stdout",
     "output_type": "stream",
     "text": [
      "5\n",
      "3\n"
     ]
    }
   ],
   "source": [
    "a = 1\n",
    "b = 2\n",
    "\n",
    "result = 2 + 3\n",
    "print(result)\n",
    "result2 = a + b\n",
    "print(result2)"
   ]
  },
  {
   "cell_type": "markdown",
   "metadata": {},
   "source": [
    "### Операторы сравнения\n",
    "![](2022-11-16_19-57.png)  \n",
    "Один оператор замазан, там \"<>\" - он умер вместе с Python 2.7\n",
    "Все эти операторы используются для того чтобы сравнивать какие-либо значения. Результатом такого сравнения будет True или False"
   ]
  },
  {
   "cell_type": "code",
   "execution_count": 19,
   "metadata": {},
   "outputs": [
    {
     "name": "stdout",
     "output_type": "stream",
     "text": [
      "True\n",
      "False\n",
      "False\n",
      "True\n",
      "False\n"
     ]
    }
   ],
   "source": [
    "print(2 < 3)\n",
    "print(2 > 3)\n",
    "weather = 'sun'\n",
    "print(weather == 'rain')\n",
    "print(42 != 51)\n",
    "print(42 != 42)"
   ]
  }
 ],
 "metadata": {
  "kernelspec": {
   "display_name": "Python 3 (ipykernel)",
   "language": "python",
   "name": "python3"
  },
  "language_info": {
   "codemirror_mode": {
    "name": "ipython",
    "version": 3
   },
   "file_extension": ".py",
   "mimetype": "text/x-python",
   "name": "python",
   "nbconvert_exporter": "python",
   "pygments_lexer": "ipython3",
   "version": "3.10.12"
  }
 },
 "nbformat": 4,
 "nbformat_minor": 2
}
