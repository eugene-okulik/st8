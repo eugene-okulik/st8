{
 "cells": [
  {
   "cell_type": "markdown",
   "metadata": {},
   "source": [
    "### Срез  \n",
    "Извлечение среза позволяет взять из списка определенную его часть"
   ]
  },
  {
   "cell_type": "code",
   "execution_count": 24,
   "metadata": {},
   "outputs": [
    {
     "name": "stdout",
     "output_type": "stream",
     "text": [
      "[11, 12, 13, 14, 14]\n",
      "[14, 13]\n",
      "[11, 12, 13, 14, 14]\n",
      "[14, 13]\n",
      "[13, 14, 14, 14, 13, 12, 11]\n",
      "[13, 14, 11]\n"
     ]
    }
   ],
   "source": [
    "weekly_temps = [11, 12, 13, 14, 14, 14, 13]\n",
    "\n",
    "work_days = weekly_temps[0:5]\n",
    "print(work_days)\n",
    "weekend = weekly_temps[5:8]\n",
    "print(weekend)\n",
    "work_days = weekly_temps[:5]\n",
    "weekend = weekly_temps[5:]\n",
    "print(work_days)\n",
    "print(weekend)\n",
    "\n",
    "vice_versa = weekly_temps[::-1]\n",
    "print(vice_versa)\n",
    "every_third = weekly_temps[::3]\n",
    "print(every_third)"
   ]
  },
  {
   "cell_type": "code",
   "execution_count": 9,
   "metadata": {},
   "outputs": [
    {
     "name": "stdout",
     "output_type": "stream",
     "text": [
      "[11, 12, 13, 14, 14, 14, 13]\n",
      "[11, 12, 13, 14, 14, 14, 13]\n",
      "[11, 12, 13, 14, 14, 14, 13]\n"
     ]
    }
   ],
   "source": [
    "weekly_temps_copy = weekly_temps[:]\n",
    "print(weekly_temps_copy)\n",
    "weekly_temps_copy = weekly_temps.copy()\n",
    "print(weekly_temps_copy)\n",
    "\n",
    "weekly_temps_copy = weekly_temps\n",
    "print(weekly_temps_copy)\n"
   ]
  },
  {
   "cell_type": "code",
   "execution_count": 21,
   "metadata": {},
   "outputs": [
    {
     "name": "stdout",
     "output_type": "stream",
     "text": [
      "False\n",
      "[11, 12, 13, 14, 14, 14, 13]\n",
      "[11, 12, 13, 14, 14, 14, 13, 111111]\n",
      "[11, 12, 13, 14, 14, 14, 13, 111111, 222222, 333333]\n",
      "True\n"
     ]
    }
   ],
   "source": [
    "weekly_temps = [11, 12, 13, 14, 14, 14, 13]\n",
    "weekly_temps_copy1 = weekly_temps[:]\n",
    "print(weekly_temps_copy1 is weekly_temps)\n",
    "\n",
    "weekly_temps.append(111111)\n",
    "print(weekly_temps_copy1)\n",
    "weekly_temps_copy2 = weekly_temps.copy()\n",
    "weekly_temps.append(222222)\n",
    "print(weekly_temps_copy2)\n",
    "\n",
    "weekly_temps_copy3 = weekly_temps\n",
    "weekly_temps.append(333333)\n",
    "print(weekly_temps_copy3)\n",
    "print(weekly_temps_copy3 is weekly_temps)"
   ]
  },
  {
   "cell_type": "markdown",
   "metadata": {},
   "source": [
    "# Строка ←→ список"
   ]
  },
  {
   "cell_type": "code",
   "execution_count": 26,
   "metadata": {},
   "outputs": [
    {
     "name": "stdout",
     "output_type": "stream",
     "text": [
      "['В', 'Лондоне', '13', 'в', 'париже', '15', 'в', 'берлине', '17']\n",
      "['13', '15', '17']\n"
     ]
    }
   ],
   "source": [
    "weather_info = 'В Лондоне 13 в париже 15 в берлине 17'\n",
    "list_from_weather_info = weather_info.split()\n",
    "print(list_from_weather_info)\n",
    "weather_temps = list_from_weather_info[2::3]\n",
    "print(weather_temps)"
   ]
  },
  {
   "cell_type": "code",
   "execution_count": 29,
   "metadata": {},
   "outputs": [
    {
     "name": "stdout",
     "output_type": "stream",
     "text": [
      "['some', 'little', 'text']\n"
     ]
    }
   ],
   "source": [
    "my_string2 = 'some, little, text'\n",
    "list_from_string2 = my_string2.split(', ')\n",
    "print(list_from_string2)"
   ]
  },
  {
   "cell_type": "code",
   "execution_count": 35,
   "metadata": {},
   "outputs": [
    {
     "name": "stdout",
     "output_type": "stream",
     "text": [
      "Students kow languages: {'Java', 'Python', 'Ruby'}\n",
      "Students kow languages: Java, Python, Ruby\n"
     ]
    }
   ],
   "source": [
    "# languages = ['Python', 'Java', 'Ruby']\n",
    "# languages = ('Python', 'Java', 'Ruby')\n",
    "languages = {'Python', 'Java', 'Ruby'}\n",
    "# Students kow languages: Python, Gava, Ruby\n",
    "print('Students kow languages:', languages)\n",
    "# print(f'Students kow languages: {languages[0]}, {languages[1]}, {languages[2]}')\n",
    "languages_str = ', '.join(languages)\n",
    "print(f'Students kow languages: {languages_str}')"
   ]
  },
  {
   "cell_type": "markdown",
   "metadata": {},
   "source": [
    "## Методы строк\n",
    "Со строкой можно делать многое из того, что можно делать с другими коллекциями, т.к. строка это по сути тоже коллекция - последовательность символов. Больше всего функциональность строки похожа на функциональность кортежей."
   ]
  },
  {
   "cell_type": "code",
   "execution_count": 46,
   "metadata": {},
   "outputs": [
    {
     "name": "stdout",
     "output_type": "stream",
     "text": [
      "s\n",
      "!\n",
      "20\n",
      "13\n",
      "3\n",
      "-1\n",
      "2\n"
     ]
    }
   ],
   "source": [
    "text = 'my long long string!'\n",
    "print(text[13])\n",
    "print(text[-1])\n",
    "\n",
    "print(len(text))\n",
    "print(text.index('s'))\n",
    "print(text.index('long'))\n",
    "print(text.find('ssdd'))\n",
    "print(text.count('long'))\n"
   ]
  },
  {
   "cell_type": "code",
   "execution_count": 52,
   "metadata": {},
   "outputs": [
    {
     "name": "stdout",
     "output_type": "stream",
     "text": [
      "\"apple\"\n"
     ]
    }
   ],
   "source": [
    "search = ' apple '\n",
    "search = search.strip()\n",
    "\n",
    "# search = search.rstrip()\n",
    "# search = search.lstrip()\n",
    "print(f'\"{search}\"')"
   ]
  },
  {
   "cell_type": "code",
   "execution_count": 55,
   "metadata": {},
   "outputs": [
    {
     "name": "stdout",
     "output_type": "stream",
     "text": [
      "\":apple-\"\n"
     ]
    }
   ],
   "source": [
    "search = ':apple-'\n",
    "search = search.strip(':-')\n",
    "print(f'\"{search}\"')\n"
   ]
  },
  {
   "cell_type": "code",
   "execution_count": 57,
   "metadata": {},
   "outputs": [
    {
     "name": "stdout",
     "output_type": "stream",
     "text": [
      "ar\n"
     ]
    }
   ],
   "source": [
    "data2 = 'stsart'\n",
    "\n",
    "data2 = data2.strip('st')\n",
    "\n",
    "print(data2)"
   ]
  },
  {
   "cell_type": "code",
   "execution_count": 60,
   "metadata": {},
   "outputs": [
    {
     "name": "stdout",
     "output_type": "stream",
     "text": [
      "Hello universe!\n"
     ]
    }
   ],
   "source": [
    "msg = 'Hello world!'\n",
    "\n",
    "msg = msg.replace('world', 'universe')\n",
    "\n",
    "print(msg)"
   ]
  },
  {
   "cell_type": "code",
   "execution_count": 64,
   "metadata": {},
   "outputs": [],
   "source": [
    "float_data = '12,3'\n",
    "float_data = float_data.replace(',', '.')\n",
    "\n",
    "float_data = float(float_data)"
   ]
  },
  {
   "cell_type": "code",
   "execution_count": 65,
   "metadata": {},
   "outputs": [
    {
     "name": "stdout",
     "output_type": "stream",
     "text": [
      "This text with messed up capitalization!\n",
      "This Text With Messed Up Capitalization!\n",
      "THIS TEXT WITH MESSED UP CAPITALIZATION!\n",
      "this text with messed up capitalization!\n"
     ]
    }
   ],
   "source": [
    "txt = \"ThIs tExt wiTh meSsEd uP CaPITalIZatiOn!\"\n",
    "print(txt.capitalize()) # Делает первую букву предложения заглавной\n",
    "print(txt.title())  # Делает каждую первую букву заглавной\n",
    "print(txt.upper())  # Делает все буквы большими\n",
    "print(txt.lower())  # Делает все буквы маленькими"
   ]
  },
  {
   "cell_type": "code",
   "execution_count": 69,
   "metadata": {},
   "outputs": [
    {
     "name": "stdout",
     "output_type": "stream",
     "text": [
      "rrr\n",
      "ttt\n",
      "tttRRRyyy\n"
     ]
    }
   ],
   "source": [
    "start_upper = '*'\n",
    "end_upper = '$'\n",
    "\n",
    "user_input = input('some text: ')\n",
    "# user_input = 'aaaaa*qqq$eee'\n",
    "start_to_up = user_input.index('*')\n",
    "end_to_up = user_input.index('$')\n",
    "to_up = user_input[start_to_up + 1:end_to_up]\n",
    "print(to_up)\n",
    "begin = user_input[:start_to_up]\n",
    "print(begin)\n",
    "finish = user_input[end_to_up + 1:]\n",
    "print(f'{begin}{to_up.upper()}{finish}')"
   ]
  }
 ],
 "metadata": {
  "language_info": {
   "name": "python"
  }
 },
 "nbformat": 4,
 "nbformat_minor": 2
}
