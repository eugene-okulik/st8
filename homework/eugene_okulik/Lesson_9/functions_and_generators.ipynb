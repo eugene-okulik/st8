{
 "cells": [
  {
   "cell_type": "code",
   "execution_count": 5,
   "metadata": {},
   "outputs": [
    {
     "name": "stdout",
     "output_type": "stream",
     "text": [
      "7\n",
      "7\n"
     ]
    }
   ],
   "source": [
    "def calc(x, y):\n",
    "    result = x + y\n",
    "    print(result)\n",
    "    return result\n",
    "\n",
    "calc_result = calc(2, 5)\n",
    "print(calc_result)"
   ]
  },
  {
   "cell_type": "code",
   "execution_count": 6,
   "metadata": {},
   "outputs": [
    {
     "name": "stdout",
     "output_type": "stream",
     "text": [
      "sdfsdf\n",
      "sdfsdf sdfsdfsdf\n",
      "sdfsdf sdfsdfsdf sdfsfd sdfsdf sdfsdfsdf\n"
     ]
    }
   ],
   "source": [
    "print('sdfsdf')\n",
    "print('sdfsdf', 'sdfsdfsdf')\n",
    "print('sdfsdf', 'sdfsdfsdf', 'sdfsfd', 'sdfsdf', 'sdfsdfsdf')\n"
   ]
  },
  {
   "cell_type": "code",
   "execution_count": 10,
   "metadata": {},
   "outputs": [
    {
     "name": "stdout",
     "output_type": "stream",
     "text": [
      "skdjfhskdjf skdfjhskdjf\n"
     ]
    }
   ],
   "source": [
    "def my_print(text1, text2):\n",
    "    print(text1, text2)\n",
    "\n",
    "# my_print('skdjfhskdjf')\n",
    "my_print('skdjfhskdjf', 'skdfjhskdjf')"
   ]
  },
  {
   "cell_type": "code",
   "execution_count": 12,
   "metadata": {},
   "outputs": [
    {
     "name": "stdout",
     "output_type": "stream",
     "text": [
      "('skdjfhskdjf', 'skdfjhskdjf')\n"
     ]
    }
   ],
   "source": [
    "def my_print(*text):\n",
    "    print(text)\n",
    "\n",
    "my_print('skdjfhskdjf', 'skdfjhskdjf')"
   ]
  },
  {
   "cell_type": "code",
   "execution_count": 20,
   "metadata": {},
   "outputs": [
    {
     "name": "stdout",
     "output_type": "stream",
     "text": [
      "skdjfhskdjf skdfjhskdjf222 skdjfhsf skdjhksjdf \n",
      "skdjfhskdjf1111 \n",
      "skdjfhskdjf1111 sdfsdf \n"
     ]
    }
   ],
   "source": [
    "def my_print(*text):\n",
    "    for t in text:\n",
    "        print(t, end=' ')\n",
    "    print()\n",
    "\n",
    "my_print('skdjfhskdjf', 'skdfjhskdjf222', 'skdjfhsf', 'skdjhksjdf')\n",
    "my_print('skdjfhskdjf1111')\n",
    "my_print('skdjfhskdjf1111', 'sdfsdf')"
   ]
  },
  {
   "cell_type": "code",
   "execution_count": 26,
   "metadata": {},
   "outputs": [
    {
     "name": "stdout",
     "output_type": "stream",
     "text": [
      "('skdjfhskdjf', 'skdfjhskdjf222', 'skdjfhsf', 'skdjhksjdf')\n",
      "('skdjfhskdjf', 'skdfjhskdjf222', 'skdjfhsf', 'skdjhksjdf')\n",
      "skdjfhskdjf skdfjhskdjf222 skdjfhsf skdjhksjdf\n",
      "skdjfhskdjf skdfjhskdjf222 skdjfhsf skdjhksjdf\n"
     ]
    }
   ],
   "source": [
    "texts = ('skdjfhskdjf', 'skdfjhskdjf222', 'skdjfhsf', 'skdjhksjdf')\n",
    "print(texts)  # ('skdjfhskdjf', 'skdfjhskdjf222', 'skdjfhsf', 'skdjhksjdf')\n",
    "print(('skdjfhskdjf', 'skdfjhskdjf222', 'skdjfhsf', 'skdjhksjdf'))\n",
    "print(*texts)  # 'skdjfhskdjf', 'skdfjhskdjf222', 'skdjfhsf', 'skdjhksjdf'\n",
    "print('skdjfhskdjf', 'skdfjhskdjf222', 'skdjfhsf', 'skdjhksjdf')"
   ]
  },
  {
   "cell_type": "code",
   "execution_count": 31,
   "metadata": {},
   "outputs": [
    {
     "name": "stdout",
     "output_type": "stream",
     "text": [
      "4\n",
      "8\n"
     ]
    },
    {
     "ename": "TypeError",
     "evalue": "power() missing 1 required positional argument: 'y'",
     "output_type": "error",
     "traceback": [
      "\u001b[0;31m---------------------------------------------------------------------------\u001b[0m",
      "\u001b[0;31mTypeError\u001b[0m                                 Traceback (most recent call last)",
      "\u001b[0;32m/tmp/ipykernel_2109549/2934506925.py\u001b[0m in \u001b[0;36m<module>\u001b[0;34m\u001b[0m\n\u001b[1;32m      4\u001b[0m \u001b[0mprint\u001b[0m\u001b[0;34m(\u001b[0m\u001b[0mpower\u001b[0m\u001b[0;34m(\u001b[0m\u001b[0;36m2\u001b[0m\u001b[0;34m)\u001b[0m\u001b[0;34m)\u001b[0m\u001b[0;34m\u001b[0m\u001b[0;34m\u001b[0m\u001b[0m\n\u001b[1;32m      5\u001b[0m \u001b[0mprint\u001b[0m\u001b[0;34m(\u001b[0m\u001b[0mpower\u001b[0m\u001b[0;34m(\u001b[0m\u001b[0;36m2\u001b[0m\u001b[0;34m,\u001b[0m \u001b[0;36m3\u001b[0m\u001b[0;34m)\u001b[0m\u001b[0;34m)\u001b[0m\u001b[0;34m\u001b[0m\u001b[0;34m\u001b[0m\u001b[0m\n\u001b[0;32m----> 6\u001b[0;31m \u001b[0mprint\u001b[0m\u001b[0;34m(\u001b[0m\u001b[0mpower\u001b[0m\u001b[0;34m(\u001b[0m\u001b[0;34m)\u001b[0m\u001b[0;34m)\u001b[0m\u001b[0;34m\u001b[0m\u001b[0;34m\u001b[0m\u001b[0m\n\u001b[0m",
      "\u001b[0;31mTypeError\u001b[0m: power() missing 1 required positional argument: 'y'"
     ]
    }
   ],
   "source": [
    "def power(y, degree=2):\n",
    "    return y ** degree\n",
    "\n",
    "print(power(2))\n",
    "print(power(2, 3))\n",
    "print(power())"
   ]
  },
  {
   "cell_type": "code",
   "execution_count": 32,
   "metadata": {},
   "outputs": [
    {
     "ename": "SyntaxError",
     "evalue": "non-default argument follows default argument (3458551895.py, line 1)",
     "output_type": "error",
     "traceback": [
      "\u001b[0;36m  File \u001b[0;32m\"/tmp/ipykernel_2109549/3458551895.py\"\u001b[0;36m, line \u001b[0;32m1\u001b[0m\n\u001b[0;31m    def power(degree=2, y):\u001b[0m\n\u001b[0m                        ^\u001b[0m\n\u001b[0;31mSyntaxError\u001b[0m\u001b[0;31m:\u001b[0m non-default argument follows default argument\n"
     ]
    }
   ],
   "source": [
    "def power(degree=2, y):\n",
    "    return y ** degree\n",
    "\n",
    "print(power(2))"
   ]
  },
  {
   "cell_type": "code",
   "execution_count": 36,
   "metadata": {},
   "outputs": [
    {
     "name": "stdout",
     "output_type": "stream",
     "text": [
      "2 4 5 23 7 45 34 56\n",
      "2 4 5 23 7 45 34 56\n",
      "2 4 5 23 7 45 34 56\n",
      "2 4 5 23 7 45 34 56\n"
     ]
    }
   ],
   "source": [
    "def example(e, f, g, h, ff, ee, gg=2, hh=2):\n",
    "    print(e, f, g, ff, h, ee, gg, hh)\n",
    "\n",
    "example(2, 4, 5, 7, 23, 45, gg=34, hh=56)\n",
    "example(e=2, f=4, g=5, h=7, ff=23, ee=45, gg=34, hh=56)\n",
    "example(ff=23, e=2, f=4, g=5, h=7, ee=45, gg=34, hh=56)\n",
    "example(2, 4, 5, 7, ff=23, ee=45, gg=34, hh=56)"
   ]
  },
  {
   "cell_type": "code",
   "execution_count": 37,
   "metadata": {},
   "outputs": [
    {
     "name": "stdout",
     "output_type": "stream",
     "text": [
      "Product: iphone price: 2000\n",
      "Product: laptop price: 2500\n"
     ]
    }
   ],
   "source": [
    "def price_list(title, price):\n",
    "    print(f'Product: {title} price: {price}')\n",
    "\n",
    "price_list('iphone', 2000)\n",
    "price_list('laptop', 2500)\n"
   ]
  },
  {
   "cell_type": "code",
   "execution_count": 39,
   "metadata": {},
   "outputs": [
    {
     "name": "stdout",
     "output_type": "stream",
     "text": [
      "{'iphone': 2000, 'laptop': 1500}\n"
     ]
    }
   ],
   "source": [
    "def price_list(**products):\n",
    "    print(products)\n",
    "\n",
    "price_list(iphone=2000, laptop=1500)"
   ]
  },
  {
   "cell_type": "code",
   "execution_count": 42,
   "metadata": {},
   "outputs": [
    {
     "name": "stdout",
     "output_type": "stream",
     "text": [
      "Product: iphone price: 2000\n",
      "Product: laptop price: 1500\n",
      "Product: tablet price: 2500\n"
     ]
    }
   ],
   "source": [
    "def price_list(**products):\n",
    "    for key, value in products.items():\n",
    "        print(f'Product: {key} price: {value}')\n",
    "\n",
    "price_list(iphone=2000, laptop=1500, tablet=2500)"
   ]
  },
  {
   "cell_type": "code",
   "execution_count": null,
   "metadata": {},
   "outputs": [],
   "source": [
    "def my_print(*args):\n",
    "    for t in args:\n",
    "        print(t, end=' ')\n",
    "    print()\n",
    "\n",
    "\n",
    "def price_list(**kwargs):\n",
    "    for key, value in kwargs.items():\n",
    "        print(f'Product: {key} price: {value}')"
   ]
  },
  {
   "cell_type": "markdown",
   "metadata": {},
   "source": [
    "## Generators"
   ]
  },
  {
   "cell_type": "code",
   "execution_count": 2,
   "metadata": {},
   "outputs": [
    {
     "name": "stdout",
     "output_type": "stream",
     "text": [
      "\tat org.postgresql.core.v3.QueryExecutorImpl.receiveErrorResponse(QueryExecutorImpl.java:2674) ~[postgresql-42.3.1.jar!/:42.3.1]\n",
      "\n",
      "\tat org.postgresql.core.v3.QueryExecutorImpl.receiveErrorResponse(QueryExecutorImpl.java:2674) ~[postgresql-42.3.1.jar!/:42.3.1]\n",
      "\n",
      "\tat org.postgresql.core.v3.QueryExecutorImpl.receiveErrorResponse(QueryExecutorImpl.java:2674) ~[postgresql-42.3.1.jar!/:42.3.1]\n",
      "\n",
      "\tat org.postgresql.core.v3.QueryExecutorImpl.receiveErrorResponse(QueryExecutorImpl.java:2674) ~[postgresql-42.3.1.jar!/:42.3.1]\n",
      "\n",
      "\tat org.postgresql.core.v3.QueryExecutorImpl.receiveErrorResponse(QueryExecutorImpl.java:2674) ~[postgresql-42.3.1.jar!/:42.3.1]\n",
      "\n"
     ]
    }
   ],
   "source": [
    "def read_file():\n",
    "    with open('large_file.txt') as large_file:\n",
    "        return large_file.readlines()  # список, состоящий из строк файла\n",
    "\n",
    "count = 0 \n",
    "for row in read_file():\n",
    "    if 'java:2674' in row:\n",
    "        print(row)\n",
    "    count += 1\n",
    "    if count > 1000:\n",
    "        break"
   ]
  },
  {
   "cell_type": "code",
   "execution_count": 5,
   "metadata": {},
   "outputs": [
    {
     "name": "stdout",
     "output_type": "stream",
     "text": [
      "\tat org.postgresql.core.v3.QueryExecutorImpl.receiveErrorResponse(QueryExecutorImpl.java:2674) ~[postgresql-42.3.1.jar!/:42.3.1]\n",
      "\n",
      "\tat org.postgresql.core.v3.QueryExecutorImpl.receiveErrorResponse(QueryExecutorImpl.java:2674) ~[postgresql-42.3.1.jar!/:42.3.1]\n",
      "\n",
      "\tat org.postgresql.core.v3.QueryExecutorImpl.receiveErrorResponse(QueryExecutorImpl.java:2674) ~[postgresql-42.3.1.jar!/:42.3.1]\n",
      "\n",
      "\tat org.postgresql.core.v3.QueryExecutorImpl.receiveErrorResponse(QueryExecutorImpl.java:2674) ~[postgresql-42.3.1.jar!/:42.3.1]\n",
      "\n",
      "\tat org.postgresql.core.v3.QueryExecutorImpl.receiveErrorResponse(QueryExecutorImpl.java:2674) ~[postgresql-42.3.1.jar!/:42.3.1]\n",
      "\n"
     ]
    }
   ],
   "source": [
    "def read_file():\n",
    "    with open('large_file.txt') as large_file:\n",
    "        for line in large_file:\n",
    "            yield line\n",
    "\n",
    "count = 0\n",
    "for row in read_file():\n",
    "    if 'java:2674' in row:\n",
    "        print(row)\n",
    "    count += 1\n",
    "    if count > 1000:\n",
    "        break"
   ]
  },
  {
   "cell_type": "code",
   "execution_count": 6,
   "metadata": {},
   "outputs": [
    {
     "name": "stdout",
     "output_type": "stream",
     "text": [
      "0\n",
      "2\n",
      "4\n",
      "6\n",
      "8\n",
      "10\n",
      "12\n",
      "14\n",
      "16\n",
      "18\n",
      "20\n",
      "22\n"
     ]
    }
   ],
   "source": [
    "def arithmetic_progression():\n",
    "    start = 0\n",
    "    step = 2\n",
    "    while True:\n",
    "        yield start\n",
    "        start += step\n",
    "\n",
    "\n",
    "for count, num in enumerate(arithmetic_progression()):\n",
    "    print(num)\n",
    "    if count > 10:\n",
    "        break"
   ]
  }
 ],
 "metadata": {
  "kernelspec": {
   "display_name": "Python 3 (ipykernel)",
   "language": "python",
   "name": "python3"
  },
  "language_info": {
   "codemirror_mode": {
    "name": "ipython",
    "version": 3
   },
   "file_extension": ".py",
   "mimetype": "text/x-python",
   "name": "python",
   "nbconvert_exporter": "python",
   "pygments_lexer": "ipython3",
   "version": "3.10.12"
  }
 },
 "nbformat": 4,
 "nbformat_minor": 2
}
