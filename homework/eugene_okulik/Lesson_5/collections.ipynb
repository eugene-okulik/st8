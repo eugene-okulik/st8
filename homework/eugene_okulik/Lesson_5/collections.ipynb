{
 "cells": [
  {
   "cell_type": "markdown",
   "metadata": {},
   "source": [
    "# Типы данных в Python"
   ]
  },
  {
   "cell_type": "markdown",
   "metadata": {},
   "source": [
    "Number (целое число)  \n",
    "String (строка)  \n",
    "Boolean (логический тип данных)  \n",
    "Float(числа с плавающей точкой)  \n",
    "List (список)  \n",
    "Dictionary (словарь)  \n",
    "Tuple (кортеж)  \n",
    "Set (множество)  "
   ]
  },
  {
   "cell_type": "markdown",
   "metadata": {},
   "source": [
    "## List(список)\n",
    "Python список - структура данных для хранения последовательностей.\n",
    "Экземпляры значений, находящихся в списке, называются элементами списка."
   ]
  },
  {
   "cell_type": "code",
   "execution_count": 39,
   "metadata": {},
   "outputs": [
    {
     "name": "stdout",
     "output_type": "stream",
     "text": [
      "[1, 3, 6, 7, None, 'text', False, [1, 3], (1, 5), {3, 6}, 2.42, 23, 45]\n",
      "3\n",
      "1\n",
      "[1, 3]\n",
      "45\n",
      "2.42\n",
      "[1, 3, 10, 7, None, 'text', False, [1, 3], (1, 5), {3, 6}, 2.42, 23, 45]\n"
     ]
    }
   ],
   "source": [
    "my_list = [1, 3, 6, 7, None, 'text', False, [1, 3], (1, 5), {3, 6}, 2.42, 23, 45]\n",
    "print(my_list)\n",
    "print(my_list[1])\n",
    "print(my_list[0])\n",
    "print(my_list[7])\n",
    "print(my_list[-1])\n",
    "print(my_list[-3])\n",
    "\n",
    "my_list[2] = 10\n",
    "print(my_list)"
   ]
  },
  {
   "cell_type": "code",
   "execution_count": 29,
   "metadata": {},
   "outputs": [
    {
     "name": "stdout",
     "output_type": "stream",
     "text": [
      "[42, 'text', False]\n",
      "3\n",
      "1\n",
      "[42, False]\n",
      "text\n",
      "True\n",
      "False\n",
      "[42, 'add', False, 2, 5, 8]\n"
     ]
    }
   ],
   "source": [
    "my_list = []\n",
    "my_list = list()\n",
    "my_list.append(42)\n",
    "my_list.append('text')\n",
    "my_list.append(False)\n",
    "print(my_list)\n",
    "\n",
    "print(len(my_list))\n",
    "print(my_list.index('text'))\n",
    "poped = my_list.pop(1)\n",
    "print(my_list)\n",
    "print(poped)\n",
    "\n",
    "print(42 in my_list)\n",
    "print('text' in my_list)\n",
    "\n",
    "# это код работает так\n",
    "# my_list.remove(42)\n",
    "my_list.insert(1, 'add')\n",
    "\n",
    "my_list2 = [2, 5 , 8]\n",
    "my_list.extend(my_list2)\n",
    "\n",
    "print(my_list)"
   ]
  },
  {
   "cell_type": "markdown",
   "metadata": {},
   "source": [
    "## Tuple(кортеж)\n",
    "Хранят данные различных типов  \n",
    "Неизменяемы  \n",
    "Занимают меньший размер  \n",
    "Оптимизируются интепретатором  \n",
    "По поведению похожи на списки. Главное отличие - нет функций, позволяющих что-то добавить в кортеж или изменить внутри него"
   ]
  },
  {
   "cell_type": "code",
   "execution_count": 38,
   "metadata": {},
   "outputs": [
    {
     "name": "stdout",
     "output_type": "stream",
     "text": [
      "(1, 3, 6, 7, None, 'text', 3, False, 2.42, [1, 3], (1, 5), {3, 6})\n",
      "3\n",
      "False\n",
      "{3, 6}\n",
      "12\n",
      "5\n",
      "2\n"
     ]
    }
   ],
   "source": [
    "my_tuple = (1, 3, 6, 7, None, 'text', 3, False, 2.42, [1, 3], (1, 5), {3, 6})\n",
    "print(my_tuple)\n",
    "print(my_tuple[1])\n",
    "print(my_tuple[7])\n",
    "print(my_tuple[-1])\n",
    "\n",
    "print(len(my_tuple))\n",
    "print(my_tuple.index('text'))\n",
    "\n",
    "print(my_tuple.count(3))"
   ]
  },
  {
   "cell_type": "code",
   "execution_count": 36,
   "metadata": {},
   "outputs": [
    {
     "name": "stdout",
     "output_type": "stream",
     "text": [
      "(9,)\n",
      "(9, 10)\n"
     ]
    }
   ],
   "source": [
    "my_tuple = ()\n",
    "my_tuple = tuple()\n",
    "\n",
    "my_list = [9]\n",
    "my_tuple = (9,)\n",
    "print(my_tuple)\n",
    "my_tuple = 9, 10\n",
    "print(my_tuple)\n"
   ]
  },
  {
   "cell_type": "code",
   "execution_count": 37,
   "metadata": {},
   "outputs": [
    {
     "name": "stdout",
     "output_type": "stream",
     "text": [
      "2\n"
     ]
    }
   ],
   "source": [
    "a = 1\n",
    "a = 2\n",
    "print(a)\n",
    "\n",
    "my_list = [9]\n",
    "my_list.append(10)  # изменение\n",
    "my_list = [11, 12]  # переназначение переменной (создание нового списка)"
   ]
  },
  {
   "cell_type": "markdown",
   "metadata": {},
   "source": [
    "## Set(множество)\n",
    "Содержит в себе только неповторяющиеся элементы  \n",
    "Не гарантирует порядок элементов  \n",
    "Работа с ним тоже похожа на работу со списком"
   ]
  },
  {
   "cell_type": "code",
   "execution_count": 47,
   "metadata": {},
   "outputs": [
    {
     "name": "stdout",
     "output_type": "stream",
     "text": [
      "{1, 2.42, 3, 6, 7, (1, 5), 42, None}\n",
      "False\n"
     ]
    }
   ],
   "source": [
    "my_set = {1, 3, 6, 7, None, 'text', 3, False, 2.42, (1, 5)}\n",
    "my_set.add(42)\n",
    "my_set.add(1)\n",
    "poped = my_set.pop()\n",
    "my_set.remove('text')\n",
    "print(my_set)\n",
    "print(poped)"
   ]
  },
  {
   "cell_type": "code",
   "execution_count": 48,
   "metadata": {},
   "outputs": [
    {
     "name": "stdout",
     "output_type": "stream",
     "text": [
      "<class 'dict'>\n",
      "<class 'set'>\n"
     ]
    }
   ],
   "source": [
    "my_set = {}\n",
    "print(type(my_set))\n",
    "my_set = set()\n",
    "print(type(my_set))"
   ]
  },
  {
   "cell_type": "code",
   "execution_count": 51,
   "metadata": {},
   "outputs": [
    {
     "name": "stdout",
     "output_type": "stream",
     "text": [
      "[1, 2, 3, 5]\n"
     ]
    }
   ],
   "source": [
    "my_list = [1, 3, 1, 5, 2, 1, 2, 3]\n",
    "# my_set = set(my_list)\n",
    "# my_list = list(my_set)\n",
    "my_list = list(set(my_list))\n",
    "\n",
    "print(my_list)"
   ]
  },
  {
   "cell_type": "markdown",
   "metadata": {},
   "source": [
    "## Dictionary(словарь)\n",
    "\n",
    "Словари в Python - коллекции произвольных объектов с доступом по ключу. Их иногда ещё называют ассоциативными массивами или хеш-таблицами.  \n",
    "  \n",
    "данные в словаре - это пары ключ: значение  \n",
    "доступ к значениям осуществляется по ключу, а не по номеру, как в списках  \n",
    "данные в словаре упорядочены по порядку добавления элементов  \n",
    "так как словари изменяемы, то элементы словаря можно менять, добавлять, удалять  \n",
    "ключ должен быть объектом неизменяемого типа: число, строка, кортеж  \n",
    "значение может быть данными любого типа"
   ]
  },
  {
   "cell_type": "code",
   "execution_count": 65,
   "metadata": {},
   "outputs": [
    {
     "name": "stdout",
     "output_type": "stream",
     "text": [
      "{'one': 'value1', 'two': 'value2'}\n",
      "value1\n",
      "3874653\n",
      "{'one': 'value1', 'two': 'value2-upd', 'three': 'value3', 'four': 42, 'five': 42.23, 'six': False, 'seven': None, 'eight': [1, 4, 10], 'nine': (1, 4), 'ten': {1, 11, 4}, 'eleven': {'1': 223, '4': 2}, 5: 'sskdjfhsd', 2.45: 'sskdjfhsd', True: 'sdkjfsd', (2, 6): '384763874583745'}\n"
     ]
    }
   ],
   "source": [
    "my_dict = {'one': 'value1', 'two': 'value2'}\n",
    "print(my_dict)\n",
    "print(my_dict['one'])\n",
    "my_dict['two'] = 'value2-upd'\n",
    "my_dict['three'] = 'value3'\n",
    "my_dict['four'] = 42\n",
    "my_dict['five'] = 42.23\n",
    "my_dict['six'] = False\n",
    "my_dict['seven'] = None\n",
    "my_dict['eight'] = [1, 4]\n",
    "my_dict['nine'] = (1, 4)\n",
    "my_dict['ten'] = {1, 4}\n",
    "my_dict['eleven'] = {'1': 223, '4': 3874653}\n",
    "\n",
    "my_dict['eight'].append(10)\n",
    "my_dict['ten'].add(11)\n",
    "print(my_dict['eleven']['4'])\n",
    "my_dict['eleven']['4'] = 2\n",
    "\n",
    "my_dict[5] = 'sskdjfhsd'\n",
    "my_dict[2.45] = 'sskdjfhsd'\n",
    "my_dict[True] = 'sdkjfsd'\n",
    "my_dict[(2, 6)] = '384763874583745'\n",
    "\n",
    "\n",
    "print(my_dict)"
   ]
  },
  {
   "cell_type": "code",
   "execution_count": 66,
   "metadata": {},
   "outputs": [
    {
     "name": "stdout",
     "output_type": "stream",
     "text": [
      "dict_values(['value1', 'value2-upd', 'value3', 42, 42.23, False, None, [1, 4, 10], (1, 4), {1, 11, 4}, {'1': 223, '4': 2}, 'sskdjfhsd', 'sskdjfhsd', 'sdkjfsd', '384763874583745'])\n",
      "dict_keys(['one', 'two', 'three', 'four', 'five', 'six', 'seven', 'eight', 'nine', 'ten', 'eleven', 5, 2.45, True, (2, 6)])\n",
      "dict_items([('one', 'value1'), ('two', 'value2-upd'), ('three', 'value3'), ('four', 42), ('five', 42.23), ('six', False), ('seven', None), ('eight', [1, 4, 10]), ('nine', (1, 4)), ('ten', {1, 11, 4}), ('eleven', {'1': 223, '4': 2}), (5, 'sskdjfhsd'), (2.45, 'sskdjfhsd'), (True, 'sdkjfsd'), ((2, 6), '384763874583745')])\n"
     ]
    }
   ],
   "source": [
    "print(my_dict.values())\n",
    "print(my_dict.keys())\n",
    "print(my_dict.items())"
   ]
  },
  {
   "cell_type": "markdown",
   "metadata": {},
   "source": [
    "## Распаковка\n",
    "Используется для того, чтобы распределить элементы коллекции (список, словарь, множество, кортеж) по отдельным переменным.  \n",
    "Используется только в ситуациях, когда вы наверняка знаете количество элементов, содержащихся в коллекции."
   ]
  },
  {
   "cell_type": "code",
   "execution_count": 74,
   "metadata": {},
   "outputs": [
    {
     "name": "stdout",
     "output_type": "stream",
     "text": [
      "14\n",
      "London\n",
      "30\n"
     ]
    }
   ],
   "source": [
    "weekly_temps = [11, 12, 13, 14, 14, 14, 17]\n",
    "# mon = weekly_temps[0]\n",
    "# tue = weekly_temps[1]\n",
    "# wed = weekly_temps[2]\n",
    "mon, tue, wed, thu, fri, sat, sun = weekly_temps\n",
    "print(thu)\n",
    "city_temp = ('London', 30)\n",
    "city, temp = city_temp\n",
    "print(city)\n",
    "print(temp)"
   ]
  }
 ],
 "metadata": {
  "kernelspec": {
   "display_name": "Python 3",
   "language": "python",
   "name": "python3"
  },
  "language_info": {
   "codemirror_mode": {
    "name": "ipython",
    "version": 3
   },
   "file_extension": ".py",
   "mimetype": "text/x-python",
   "name": "python",
   "nbconvert_exporter": "python",
   "pygments_lexer": "ipython3",
   "version": "3.10.12"
  }
 },
 "nbformat": 4,
 "nbformat_minor": 2
}
