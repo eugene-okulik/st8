{
 "cells": [
  {
   "cell_type": "markdown",
   "metadata": {},
   "source": [
    "## In-built functions - встроенные функции"
   ]
  },
  {
   "cell_type": "code",
   "execution_count": 19,
   "metadata": {},
   "outputs": [
    {
     "name": "stdout",
     "output_type": "stream",
     "text": [
      "257\n",
      "1\n",
      "89\n",
      "a\n",
      "x\n",
      "89\n",
      "257\n"
     ]
    }
   ],
   "source": [
    "numbers = [1, 45, 23, 67, 32, 89]\n",
    "strings = ['a', 'x', 'm']\n",
    "numbers_tup = (1, 45, 23, 67, 32, 89)\n",
    "numbers_set = {1, 45, 23, 67, 32, 89}\n",
    "\n",
    "# result = 0\n",
    "# for x in numbers:\n",
    "#     result += x\n",
    "\n",
    "# print(result)\n",
    "\n",
    "print(sum(numbers))\n",
    "\n",
    "print(min(numbers))\n",
    "print(max(numbers))\n",
    "print(min(strings))\n",
    "print(max(strings))\n",
    "print(max(numbers_tup))\n",
    "print(sum(numbers_set))"
   ]
  },
  {
   "cell_type": "code",
   "execution_count": 18,
   "metadata": {},
   "outputs": [
    {
     "name": "stdout",
     "output_type": "stream",
     "text": [
      "[1, 23, 32, 45, 67, 89]\n",
      "[1, 45, 23, 67, 32, 89]\n",
      "[89, 67, 45, 32, 23, 1]\n",
      "Tup: [1, 23, 32, 45, 67, 89]\n",
      "Set: [1, 23, 32, 45, 67, 89]\n",
      "[1, 23, 32, 45, 67, 89]\n",
      "[89, 67, 45, 32, 23, 1]\n"
     ]
    }
   ],
   "source": [
    "numbers = [1, 45, 23, 67, 32, 89]\n",
    "numbers_tup = (1, 45, 23, 67, 32, 89)\n",
    "numbers_set = {1, 45, 23, 67, 32, 89}\n",
    "\n",
    "sorted_numbers = sorted(numbers)\n",
    "print(sorted_numbers)\n",
    "print(numbers)\n",
    "sorted_numbers = sorted(numbers, reverse=True)\n",
    "print(sorted_numbers)\n",
    "print('Tup:', sorted(numbers_tup))\n",
    "print('Set:', sorted(numbers_set))\n",
    "\n",
    "numbers.sort()\n",
    "print(numbers)\n",
    "numbers.sort(reverse=True)\n",
    "print(numbers)"
   ]
  },
  {
   "cell_type": "code",
   "execution_count": 22,
   "metadata": {},
   "outputs": [
    {
     "name": "stdout",
     "output_type": "stream",
     "text": [
      "['mon', 'tue', 'wed']\n",
      "['tue', 'wed', 'mon']\n",
      "['tue', 'wed', 'mon']\n"
     ]
    }
   ],
   "source": [
    "temps = {'mon': 20, 'tue': 4, 'wed': 10}\n",
    "\n",
    "print(sorted(temps))\n",
    "\n",
    "def get_value(name):\n",
    "    return temps[name]\n",
    "\n",
    "print(sorted(temps, key=get_value))\n",
    "print(sorted(temps, key=lambda name: temps[name]))\n"
   ]
  },
  {
   "cell_type": "code",
   "execution_count": 29,
   "metadata": {},
   "outputs": [
    {
     "name": "stdout",
     "output_type": "stream",
     "text": [
      "0.3333333333333333\n",
      "0.33\n",
      "0.34\n"
     ]
    }
   ],
   "source": [
    "a = 1 / 3\n",
    "b = 0.3353333333333333\n",
    "\n",
    "print(a)\n",
    "print(round(a, 2))\n",
    "print(round(b, 2))"
   ]
  },
  {
   "cell_type": "code",
   "execution_count": 32,
   "metadata": {},
   "outputs": [
    {
     "name": "stdout",
     "output_type": "stream",
     "text": [
      "1\n"
     ]
    }
   ],
   "source": [
    "a = -1\n",
    "\n",
    "print(abs(a))"
   ]
  },
  {
   "cell_type": "code",
   "execution_count": 38,
   "metadata": {},
   "outputs": [
    {
     "name": "stdout",
     "output_type": "stream",
     "text": [
      "[89, 32, 67, 23, 45, 1]\n",
      "[]\n",
      "[1, 45, 23, 67, 32, 89]\n"
     ]
    }
   ],
   "source": [
    "numbers = [1, 45, 23, 67, 32, 89]\n",
    "\n",
    "reversed_numbers = reversed(numbers)\n",
    "print(list(reversed_numbers))\n",
    "print(list(reversed_numbers))\n",
    "print(numbers)"
   ]
  },
  {
   "cell_type": "markdown",
   "metadata": {},
   "source": [
    "## Map"
   ]
  },
  {
   "cell_type": "markdown",
   "metadata": {},
   "source": [
    "Применение операции к каждому элементу"
   ]
  },
  {
   "cell_type": "code",
   "execution_count": 39,
   "metadata": {},
   "outputs": [
    {
     "name": "stdout",
     "output_type": "stream",
     "text": [
      "[2, 4, 6, 8, 10]\n"
     ]
    }
   ],
   "source": [
    "my_list = [1, 2, 3, 4, 5]\n",
    "\n",
    "new_list = []\n",
    "for x in my_list:\n",
    "    new_list.append(x * 2)\n",
    "\n",
    "print(new_list)"
   ]
  },
  {
   "cell_type": "code",
   "execution_count": 42,
   "metadata": {},
   "outputs": [
    {
     "name": "stdout",
     "output_type": "stream",
     "text": [
      "[2, 4, 6, 8, 10]\n"
     ]
    }
   ],
   "source": [
    "my_list = [1, 2, 3, 4, 5]\n",
    "\n",
    "def mult_by_2(x):\n",
    "    return x * 2\n",
    "\n",
    "new_list = list(map(mult_by_2, my_list))\n",
    "print(new_list)\n",
    "# for x in new_list:\n",
    "#     print(x)"
   ]
  },
  {
   "cell_type": "code",
   "execution_count": 43,
   "metadata": {},
   "outputs": [
    {
     "name": "stdout",
     "output_type": "stream",
     "text": [
      "[2, 4, 6, 8, 10]\n"
     ]
    }
   ],
   "source": [
    "my_list = [1, 2, 3, 4, 5]\n",
    "\n",
    "new_list = list(map(lambda x: x * 2, my_list))\n",
    "\n",
    "print(new_list)"
   ]
  },
  {
   "cell_type": "markdown",
   "metadata": {},
   "source": [
    "## Filter"
   ]
  },
  {
   "cell_type": "code",
   "execution_count": 44,
   "metadata": {},
   "outputs": [
    {
     "name": "stdout",
     "output_type": "stream",
     "text": [
      "[2, 4, 6, 8]\n"
     ]
    }
   ],
   "source": [
    "my_list2 = [1, 2, 3, 4, 5, 6, 7, 8]\n",
    "\n",
    "new_list2 = []\n",
    "for x in my_list2:\n",
    "    if x % 2 == 0:\n",
    "        new_list2.append(x)\n",
    "\n",
    "\n",
    "print(new_list2)"
   ]
  },
  {
   "cell_type": "code",
   "execution_count": 46,
   "metadata": {},
   "outputs": [
    {
     "name": "stdout",
     "output_type": "stream",
     "text": [
      "[2, 4, 6, 8]\n"
     ]
    }
   ],
   "source": [
    "my_list2 = [1, 2, 3, 4, 5, 6, 7, 8]\n",
    "\n",
    "def is_even(x):\n",
    "    if x % 2 == 0:\n",
    "        return True\n",
    "    else:\n",
    "        return False\n",
    "\n",
    "\n",
    "new_list2 = list(filter(is_even, my_list2))\n",
    "print(new_list2)"
   ]
  },
  {
   "cell_type": "code",
   "execution_count": 47,
   "metadata": {},
   "outputs": [
    {
     "name": "stdout",
     "output_type": "stream",
     "text": [
      "[2, 4, 6, 8]\n"
     ]
    }
   ],
   "source": [
    "my_list2 = [1, 2, 3, 4, 5, 6, 7, 8]\n",
    "\n",
    "def is_even(x):\n",
    "    return x % 2 == 0\n",
    "\n",
    "\n",
    "new_list2 = list(filter(is_even, my_list2))\n",
    "print(new_list2)"
   ]
  },
  {
   "cell_type": "code",
   "execution_count": 48,
   "metadata": {},
   "outputs": [
    {
     "name": "stdout",
     "output_type": "stream",
     "text": [
      "[2, 4, 6, 8]\n"
     ]
    }
   ],
   "source": [
    "my_list2 = [1, 2, 3, 4, 5, 6, 7, 8]\n",
    "\n",
    "\n",
    "new_list2 = list(filter(lambda x: x % 2 == 0, my_list2))\n",
    "print(new_list2)"
   ]
  },
  {
   "cell_type": "markdown",
   "metadata": {},
   "source": [
    "Тернарный оператор"
   ]
  },
  {
   "cell_type": "code",
   "execution_count": 50,
   "metadata": {},
   "outputs": [
    {
     "name": "stdout",
     "output_type": "stream",
     "text": [
      "green\n"
     ]
    }
   ],
   "source": [
    "# season = 'winter'\n",
    "season = 'summer'\n",
    "# season = 'autumn'\n",
    "# season = 'spring'\n",
    "if season == 'winter':\n",
    "    ground_color = 'white'\n",
    "elif season == 'autumn':\n",
    "    ground_color = 'yellow'\n",
    "elif season == 'summer':\n",
    "    ground_color = 'green'\n",
    "\n",
    "print(ground_color)"
   ]
  },
  {
   "cell_type": "code",
   "execution_count": 56,
   "metadata": {},
   "outputs": [
    {
     "name": "stdout",
     "output_type": "stream",
     "text": [
      "yellow\n",
      "2\n"
     ]
    }
   ],
   "source": [
    "# season = 'winter'\n",
    "# season = 'summer'\n",
    "season = 'autumn'\n",
    "# season = 'spring'\n",
    "\n",
    "ground_color = 'white' if season == 'winter' else 'yellow' if season == 'autumn' else 'green' if season == 'summer' else 'black'\n",
    "\n",
    "print(ground_color)\n",
    "\n",
    "# data = -1\n",
    "data = 5\n",
    "\n",
    "mnozhitel = 2 if data > 0 else 3\n",
    "\n",
    "print(mnozhitel)"
   ]
  }
 ],
 "metadata": {
  "kernelspec": {
   "display_name": "Python 3",
   "language": "python",
   "name": "python3"
  },
  "language_info": {
   "codemirror_mode": {
    "name": "ipython",
    "version": 3
   },
   "file_extension": ".py",
   "mimetype": "text/x-python",
   "name": "python",
   "nbconvert_exporter": "python",
   "pygments_lexer": "ipython3",
   "version": "3.10.12"
  }
 },
 "nbformat": 4,
 "nbformat_minor": 2
}
