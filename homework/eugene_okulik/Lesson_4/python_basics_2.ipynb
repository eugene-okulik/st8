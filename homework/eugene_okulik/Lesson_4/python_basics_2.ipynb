{
 "cells": [
  {
   "cell_type": "markdown",
   "metadata": {},
   "source": [
    "### Операторы присваивания\n",
    "![](img/2022-11-16_20-00.png)  \n",
    "Используются для того, чтобы присвоить какое либо значение переменной."
   ]
  },
  {
   "cell_type": "code",
   "execution_count": 5,
   "metadata": {},
   "outputs": [
    {
     "name": "stdout",
     "output_type": "stream",
     "text": [
      "3\n",
      "HelloWorld\n",
      "HelloWorld\n",
      "-----\n",
      "wordwordword\n"
     ]
    }
   ],
   "source": [
    "a = 1\n",
    "\n",
    "a += 1\n",
    "a = a + 1\n",
    "\n",
    "print(a)\n",
    "\n",
    "b = 2\n",
    "b = b * 3\n",
    "b *= 3\n",
    "\n",
    "text1 = 'Hello'\n",
    "text2 = 'World'\n",
    "\n",
    "result_text = text1 + text2\n",
    "print(result_text)\n",
    "\n",
    "hello = 'Hello'\n",
    "hello += \"World\"\n",
    "print(hello)\n",
    "\n",
    "dash = '-'\n",
    "print(dash * 5)\n",
    "print('word' * 3)"
   ]
  },
  {
   "cell_type": "code",
   "execution_count": null,
   "metadata": {},
   "outputs": [],
   "source": [
    "#################################\n",
    "#                               #\n",
    "#      Made by Petia            #\n",
    "#################################"
   ]
  },
  {
   "cell_type": "code",
   "execution_count": 6,
   "metadata": {},
   "outputs": [
    {
     "name": "stdout",
     "output_type": "stream",
     "text": [
      "#################################\n",
      "#                               #\n",
      "#      Made by Petia            #\n",
      "#################################\n"
     ]
    }
   ],
   "source": [
    "print('#################################')\n",
    "print('#                               #')\n",
    "print('#      Made by Petia            #')\n",
    "print('#################################')"
   ]
  },
  {
   "cell_type": "code",
   "execution_count": 9,
   "metadata": {},
   "outputs": [
    {
     "name": "stdout",
     "output_type": "stream",
     "text": [
      "*************************\n",
      "*                       *\n",
      "*     Made by Petia     *\n",
      "*************************\n"
     ]
    }
   ],
   "source": [
    "symbol = '*'\n",
    "full_line = symbol * 25\n",
    "\n",
    "print(full_line)\n",
    "print(symbol + ' ' * 23 + symbol)\n",
    "print(symbol + ' ' * 5 + 'Made by Petia' + ' ' * 5 + symbol)\n",
    "print(full_line)"
   ]
  },
  {
   "cell_type": "markdown",
   "metadata": {},
   "source": [
    "### Операторы принадлежности\n",
    "![](img/2022-11-16_20-01.png)  \n",
    "Используются в условных выражениях (выражения, в которых содержится условие) для проверки вхождения (или не вхождения) одного объекта в состав другого. Результат работы - True или False  \n",
    "Например, можно проверить есть ли какое-то слово в строке:"
   ]
  },
  {
   "cell_type": "code",
   "execution_count": 11,
   "metadata": {},
   "outputs": [
    {
     "name": "stdout",
     "output_type": "stream",
     "text": [
      "True\n",
      "False\n"
     ]
    }
   ],
   "source": [
    "text = 'I love Python'\n",
    "print('love' in text)\n",
    "print('Love' in text)"
   ]
  },
  {
   "cell_type": "markdown",
   "metadata": {},
   "source": [
    "### Операторы идентичности\n",
    "![](img/2022-11-16_20-05.png)  \n",
    "Используется для проверки является ли объект идентичным тому, что от него требуется (не просто равным по значению, а именно полностью идентичным).  \n",
    "Происходит проверка являются ли сравниваемые значения представителями одного и того же участка памяти в системе. Для чисел от 0 до 256 участки в памяти зарезервированы, поэтому при помещении в переменную такого числа (от 0 до 256) в переменную помещается не само число, а ссылка на него и память для этого числа не выделяется. Эти числа всегда хранятся в системе по одному и тому же адрему. Но если внести в переменную число > 256, то под это число выделяется память и в переменную сохраняется ссылка на эту новую ячейку памяти. Если создать еще одну переменную с таким же значением, под нее снова будет выделена память и в переменную будет сохранена ссылка на новую ячейку памяти.  \n",
    "Таким образом, операторы идентичности проверяют, что сравниваемые объекты представляют собой одну и ту же ячейку памяти."
   ]
  },
  {
   "cell_type": "code",
   "execution_count": 23,
   "metadata": {},
   "outputs": [
    {
     "name": "stdout",
     "output_type": "stream",
     "text": [
      "False\n",
      "True\n",
      "True\n"
     ]
    }
   ],
   "source": [
    "d = 257\n",
    "e = 257\n",
    "c = d\n",
    "\n",
    "print(d is e)\n",
    "print(d is c)\n",
    "print(d == e)"
   ]
  },
  {
   "cell_type": "code",
   "execution_count": 20,
   "metadata": {},
   "outputs": [
    {
     "name": "stdout",
     "output_type": "stream",
     "text": [
      "False\n"
     ]
    }
   ],
   "source": [
    "text1 = 'Таким образом, операторы идентичности проверяют, что сравниваемые объекты представляют собой одну и ту же ячейку памяти.'\n",
    "text2 = 'Таким образом, операторы идентичности проверяют, что сравниваемые объекты представляют собой одну и ту же ячейку памяти.'\n",
    "print(text1 is text2)"
   ]
  },
  {
   "cell_type": "code",
   "execution_count": 27,
   "metadata": {},
   "outputs": [
    {
     "name": "stdout",
     "output_type": "stream",
     "text": [
      "True\n"
     ]
    }
   ],
   "source": [
    "sunny = True\n",
    "\n",
    "print(sunny is True)"
   ]
  },
  {
   "cell_type": "markdown",
   "metadata": {},
   "source": [
    "or \n",
    "and"
   ]
  },
  {
   "cell_type": "markdown",
   "metadata": {},
   "source": [
    "## Способы ввода данных\n",
    "Клавиатура  \n",
    "Чтение из файла  \n",
    "База данных  \n",
    "API  \n",
    "\n",
    "Но сначала разберемся с одним из них"
   ]
  },
  {
   "cell_type": "code",
   "execution_count": 28,
   "metadata": {},
   "outputs": [
    {
     "name": "stdout",
     "output_type": "stream",
     "text": [
      "Tim\n"
     ]
    }
   ],
   "source": [
    "user_input = input('What is your name?')\n",
    "print(user_input)"
   ]
  },
  {
   "cell_type": "markdown",
   "metadata": {},
   "source": [
    "Касательно функции input, важно знать, что все, что ввел пользователь будет сохранено в переменную как текст, независимо от того что пользователь ввел. Поэтому, если мы ждем от пользователя число и хотим работать с этим как с числом, то нужно будет преобразовать тот текст, который ввел пользователь в число."
   ]
  },
  {
   "cell_type": "code",
   "execution_count": 29,
   "metadata": {},
   "outputs": [
    {
     "name": "stdout",
     "output_type": "stream",
     "text": [
      "12\n"
     ]
    }
   ],
   "source": [
    "first_number = input('Enter first number: ')  # '1'\n",
    "second_number = input('Enter second number: ')  # '2'\n",
    "\n",
    "print(first_number + second_number)"
   ]
  },
  {
   "cell_type": "markdown",
   "metadata": {},
   "source": [
    "## Преобразование типов данных"
   ]
  },
  {
   "cell_type": "code",
   "execution_count": 50,
   "metadata": {},
   "outputs": [
    {
     "name": "stdout",
     "output_type": "stream",
     "text": [
      "<class 'str'>\n",
      "<class 'int'>\n",
      "<class 'float'>\n",
      "2.2\n",
      "<class 'bool'>\n",
      "False\n"
     ]
    }
   ],
   "source": [
    "a = '1'\n",
    "print(type(a))\n",
    "a  = int(a)\n",
    "print(type(a))\n",
    "b = '2.2'\n",
    "b = float(b)\n",
    "print(type(b))\n",
    "print(b)\n",
    "d = 'False'\n",
    "d = d == 'True'\n",
    "print(type(d))\n",
    "print(d)\n"
   ]
  },
  {
   "cell_type": "code",
   "execution_count": 51,
   "metadata": {},
   "outputs": [
    {
     "name": "stdout",
     "output_type": "stream",
     "text": [
      "3.0\n"
     ]
    }
   ],
   "source": [
    "first_number = input('Enter first number: ')  # '1'\n",
    "second_number = input('Enter second number: ')  # '2'\n",
    "\n",
    "first_number = float(first_number)\n",
    "second_number = float(second_number)\n",
    "\n",
    "print(first_number + second_number)"
   ]
  },
  {
   "cell_type": "code",
   "execution_count": null,
   "metadata": {},
   "outputs": [],
   "source": [
    "first_number = float(input('Enter first number: '))  # '1'\n",
    "second_number = float(input('Enter second number: '))  # '2'\n",
    "\n",
    "print(first_number + second_number)"
   ]
  },
  {
   "cell_type": "markdown",
   "metadata": {},
   "source": [
    "# Форматирование строки"
   ]
  },
  {
   "cell_type": "code",
   "execution_count": 62,
   "metadata": {},
   "outputs": [
    {
     "name": "stdout",
     "output_type": "stream",
     "text": [
      "First word is one , second word is two\n",
      "First word is one, second word is two\n",
      "First word is one, second word is two\n",
      "First word is two, second word is one\n",
      "First word is one, second word is one\n",
      "First word is one, second word is two\n",
      "2 + 2 is 4, second word is TWO\n"
     ]
    }
   ],
   "source": [
    "a = 'one'\n",
    "b = 'two'\n",
    "\n",
    "print('First word is', a, ', second word is', b)\n",
    "\n",
    "my_text = 'First word is ' + a + ', second word is ' + b\n",
    "print(my_text)\n",
    "\n",
    "my_text = 'First word is %s, second word is %s'\n",
    "print(my_text % (a, b))\n",
    "\n",
    "#string format\n",
    "my_text = 'First word is {1}, second word is {0}'\n",
    "print(my_text.format(a, b))\n",
    "\n",
    "my_text = 'First word is {0}, second word is {0}'\n",
    "print(my_text.format(a))\n",
    "\n",
    "#f-string\n",
    "my_text = f'First word is {a}, second word is {b}'\n",
    "print(my_text)\n",
    "\n",
    "my_text = f'2 + 2 is {2 + 2}, second word is {b.upper()}'\n",
    "print(my_text)"
   ]
  },
  {
   "cell_type": "code",
   "execution_count": 76,
   "metadata": {},
   "outputs": [],
   "source": [
    "win = 'Поздравляем, {0}, ы выиграли'\n",
    "loose = 'Ничего, {0}, повезет в другой раз'"
   ]
  },
  {
   "cell_type": "code",
   "execution_count": 77,
   "metadata": {},
   "outputs": [
    {
     "name": "stdout",
     "output_type": "stream",
     "text": [
      "Ничего, Bob, повезет в другой раз\n"
     ]
    }
   ],
   "source": [
    "name = input('your name: ')\n",
    "user_input = input('your number: ')\n",
    "number = '2'\n",
    "if user_input == number:\n",
    "    print(win.format(name))\n",
    "else:\n",
    "    print(loose.format(name))"
   ]
  }
 ],
 "metadata": {
  "kernelspec": {
   "display_name": "Python 3",
   "language": "python",
   "name": "python3"
  },
  "language_info": {
   "codemirror_mode": {
    "name": "ipython",
    "version": 3
   },
   "file_extension": ".py",
   "mimetype": "text/x-python",
   "name": "python",
   "nbconvert_exporter": "python",
   "pygments_lexer": "ipython3",
   "version": "3.10.12"
  }
 },
 "nbformat": 4,
 "nbformat_minor": 2
}
