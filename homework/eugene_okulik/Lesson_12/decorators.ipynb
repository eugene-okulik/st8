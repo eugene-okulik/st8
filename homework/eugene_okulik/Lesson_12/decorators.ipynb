{
 "cells": [
  {
   "cell_type": "markdown",
   "metadata": {},
   "source": [
    "# Decorators"
   ]
  },
  {
   "cell_type": "code",
   "execution_count": 4,
   "metadata": {},
   "outputs": [],
   "source": [
    "def prettify_me(func):\n",
    "\n",
    "    def wrapper(*args, **kwargs):\n",
    "        print('* - ^ - *')\n",
    "        func(*args, **kwargs)\n",
    "        print('^^^^^^^^^')\n",
    "\n",
    "    return wrapper\n"
   ]
  },
  {
   "cell_type": "code",
   "execution_count": 8,
   "metadata": {},
   "outputs": [
    {
     "name": "stdout",
     "output_type": "stream",
     "text": [
      "* - ^ - *\n",
      "4\n",
      "^^^^^^^^^\n",
      "* - ^ - *\n",
      "40\n",
      "^^^^^^^^^\n",
      "* - ^ - *\n",
      "hello\n",
      "dear\n",
      "friend\n",
      "^^^^^^^^^\n"
     ]
    }
   ],
   "source": [
    "@prettify_me\n",
    "def calc_sum(x, y):\n",
    "    print(x + y)\n",
    "\n",
    "@prettify_me\n",
    "def calc_mult(x, y):\n",
    "    print(x * y)\n",
    "\n",
    "@prettify_me\n",
    "def put_on_screen():\n",
    "    print('hello')\n",
    "    print('dear')\n",
    "    print('friend')\n",
    "\n",
    "calc_sum(1, 3)\n",
    "calc_mult(5, 8)\n",
    "put_on_screen()"
   ]
  },
  {
   "cell_type": "code",
   "execution_count": 12,
   "metadata": {},
   "outputs": [
    {
     "name": "stdout",
     "output_type": "stream",
     "text": [
      "5\n",
      "<function smth at 0x7317c21f17e0>\n",
      "<function smth at 0x7317c21f17e0>\n",
      "5\n"
     ]
    }
   ],
   "source": [
    "def smth():\n",
    "    return 5\n",
    "\n",
    "\n",
    "print(smth())\n",
    "print(smth)\n",
    "\n",
    "another = smth\n",
    "\n",
    "print(another)\n",
    "print(another())"
   ]
  },
  {
   "cell_type": "code",
   "execution_count": 14,
   "metadata": {},
   "outputs": [
    {
     "name": "stdout",
     "output_type": "stream",
     "text": [
      "hello\n"
     ]
    }
   ],
   "source": [
    "def greet():\n",
    "\n",
    "    def hello():\n",
    "        return 'hello'\n",
    "    \n",
    "    return hello()\n",
    "\n",
    "\n",
    "print(greet())\n"
   ]
  },
  {
   "cell_type": "code",
   "execution_count": null,
   "metadata": {},
   "outputs": [],
   "source": [
    "def skdjhsdf():\n",
    "    num = 4\n",
    "    return num"
   ]
  },
  {
   "cell_type": "code",
   "execution_count": 20,
   "metadata": {},
   "outputs": [
    {
     "name": "stdout",
     "output_type": "stream",
     "text": [
      "<function outer.<locals>.inner at 0x7317c21f1510>\n",
      "7\n",
      "<function outer.<locals>.inner at 0x7317c21f1510>\n",
      "7\n"
     ]
    }
   ],
   "source": [
    "def outer():\n",
    "\n",
    "    def inner():\n",
    "        result = 2 + 5\n",
    "        return result\n",
    "    \n",
    "    return inner\n",
    "\n",
    "print(outer())\n",
    "print(outer()())\n",
    "outer_result = outer()\n",
    "print(outer_result)\n",
    "print(outer_result())"
   ]
  },
  {
   "cell_type": "code",
   "execution_count": 25,
   "metadata": {},
   "outputs": [
    {
     "name": "stdout",
     "output_type": "stream",
     "text": [
      "before\n",
      "simple1\n",
      "after\n",
      "before\n",
      "simple2\n",
      "after\n"
     ]
    }
   ],
   "source": [
    "def before_after(give_me_a_func):\n",
    "    print('before')\n",
    "    give_me_a_func()\n",
    "    print('after')\n",
    "\n",
    "def simple1():\n",
    "    print('simple1')\n",
    "\n",
    "def simple2():\n",
    "    print('simple2')\n",
    "\n",
    "before_after(simple1)\n",
    "before_after(simple2)\n"
   ]
  },
  {
   "cell_type": "code",
   "execution_count": 31,
   "metadata": {},
   "outputs": [
    {
     "name": "stdout",
     "output_type": "stream",
     "text": [
      "<function add_text.<locals>.wrapper at 0x7317c0d8c5e0>\n",
      "before\n",
      "simple1\n",
      "after\n",
      "before\n",
      "simple2\n",
      "after\n"
     ]
    }
   ],
   "source": [
    "def add_text(func):\n",
    "\n",
    "    def wrapper():\n",
    "        print('before')\n",
    "        func()\n",
    "        print('after')\n",
    "\n",
    "    return wrapper\n",
    "\n",
    "def simple1():\n",
    "    print('simple1')\n",
    "\n",
    "@add_text  # simple2 = addtext(simple2)\n",
    "def simple2():\n",
    "    print('simple2')\n",
    "\n",
    "print(add_text(simple1))\n",
    "simple1 = add_text(simple1)\n",
    "simple1()\n",
    "simple2()\n",
    "\n",
    "\n",
    "a = 1"
   ]
  },
  {
   "cell_type": "code",
   "execution_count": 50,
   "metadata": {},
   "outputs": [
    {
     "name": "stdout",
     "output_type": "stream",
     "text": [
      "before\n",
      "simple2\n",
      "after\n",
      "before\n",
      "4\n",
      "after\n",
      "before\n",
      "27\n",
      "after\n",
      "\n",
      "before\n",
      "counting....\n",
      "after\n",
      "15\n",
      "before\n",
      "counting....\n",
      "after\n",
      "\n",
      "15\n"
     ]
    }
   ],
   "source": [
    "def add_text(func):\n",
    "\n",
    "    def wrapper(*args, **kwargs):\n",
    "        print('before')\n",
    "        result = func(*args, **kwargs)\n",
    "        print('after')\n",
    "        return result\n",
    "\n",
    "    return wrapper\n",
    "\n",
    "\n",
    "@add_text\n",
    "def simple2():\n",
    "    print('simple2')\n",
    "\n",
    "@add_text  # power = add_text(power); power(2)\n",
    "def power(y):\n",
    "    print(y ** 2)\n",
    "\n",
    "\n",
    "@add_text\n",
    "def power_by(y, degree=2):\n",
    "    print(y ** degree)\n",
    "\n",
    "simple2()\n",
    "power(2)\n",
    "power_by(3, degree=3)\n",
    "\n",
    "@add_text\n",
    "def sum_all(nums):\n",
    "    print('counting....')\n",
    "    return sum(nums)\n",
    "\n",
    "print()\n",
    "# sum_all = add_text(sum_all)\n",
    "# sum_all([1, 5, 9])\n",
    "print(sum_all([1, 5, 9]))\n",
    "sum_all_result = sum_all([1, 5, 9])\n",
    "print()\n",
    "print(sum_all_result)\n"
   ]
  },
  {
   "cell_type": "code",
   "execution_count": 56,
   "metadata": {},
   "outputs": [
    {
     "name": "stdout",
     "output_type": "stream",
     "text": [
      "before\n",
      "counting....\n",
      "11\n",
      "after\n",
      "before\n",
      "simple2\n",
      "None\n",
      "after\n"
     ]
    }
   ],
   "source": [
    "def add_text(func):\n",
    "\n",
    "    def wrapper(*args, **kwargs):\n",
    "        print('before')\n",
    "        result = func(*args, **kwargs)\n",
    "        print(result)\n",
    "        print('after')\n",
    "        return result\n",
    "\n",
    "    return wrapper\n",
    "\n",
    "\n",
    "@add_text\n",
    "def simple2():\n",
    "    print('simple2')\n",
    "\n",
    "@add_text\n",
    "def sum_all(nums):\n",
    "    print('counting....')\n",
    "    return sum(nums)\n",
    "\n",
    "sum_all([1, 4, 6])\n",
    "simple2()\n",
    "\n",
    "a = 1"
   ]
  },
  {
   "cell_type": "code",
   "execution_count": 58,
   "metadata": {},
   "outputs": [
    {
     "name": "stdout",
     "output_type": "stream",
     "text": [
      "Starting function\n",
      "simple2\n"
     ]
    }
   ],
   "source": [
    "def add_text(func):\n",
    "\n",
    "    def wrapper(*args, **kwargs):\n",
    "        print('Starting function')\n",
    "        result = func(*args, **kwargs)\n",
    "        return result\n",
    "\n",
    "    return wrapper\n",
    "\n",
    "\n",
    "@add_text\n",
    "def simple2():\n",
    "    print('simple2')\n",
    "\n",
    "simple2()"
   ]
  },
  {
   "cell_type": "code",
   "execution_count": 63,
   "metadata": {},
   "outputs": [
    {
     "name": "stdout",
     "output_type": "stream",
     "text": [
      "Hello Tim\n"
     ]
    }
   ],
   "source": [
    "def whats_name(func):\n",
    "\n",
    "    def wrapper(*args, **kwargs):\n",
    "        if args:\n",
    "            user_name = args[0]\n",
    "        else:\n",
    "            user_name = input('What is your name? ')\n",
    "        func(user_name)\n",
    "\n",
    "    return wrapper\n",
    "\n",
    "\n",
    "@whats_name\n",
    "def greet(name):\n",
    "    print(f'Hello {name}')\n",
    "\n",
    "greet = whats_name(greet)\n",
    "\n",
    "greet()"
   ]
  }
 ],
 "metadata": {
  "kernelspec": {
   "display_name": "Python 3",
   "language": "python",
   "name": "python3"
  },
  "language_info": {
   "codemirror_mode": {
    "name": "ipython",
    "version": 3
   },
   "file_extension": ".py",
   "mimetype": "text/x-python",
   "name": "python",
   "nbconvert_exporter": "python",
   "pygments_lexer": "ipython3",
   "version": "3.10.12"
  }
 },
 "nbformat": 4,
 "nbformat_minor": 2
}
