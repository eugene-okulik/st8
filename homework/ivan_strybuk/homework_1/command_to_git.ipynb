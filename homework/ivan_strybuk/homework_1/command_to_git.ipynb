{
 "cells": [
  {
   "cell_type": "markdown",
   "id": "a538a653-5862-44e7-9dd5-0dcfa101b881",
   "metadata": {},
   "source": [
    "### Задание\n",
    "\n",
    "1. Создайте папку\n",
    "2. В этой папке создайте файл (можно даже пустой) test.txt\n",
    "3. Инициализируйте репозиторий в этой папке\n",
    "4. Сделайте коммит того, что находится в папке\n",
    "5. Создайте новую ветку (branch), назовите ее new\n",
    "6. Добавьте какого-нибудь текста в файл test.txt\n",
    "7. Сделайте коммит изменений\n",
    "8. Вернитесь на основную ветку (master)\n",
    "9. Создайте еще одну ветку, назовите ее second"
   ]
  },
  {
   "cell_type": "markdown",
   "id": "bbd3b02f-9e4f-4309-ab1f-177ba9a3a22e",
   "metadata": {},
   "source": [
    "### Выполнение\n",
    "\n",
    "1. Создайте папку\n",
    "    * mkdir new_folder\n",
    "    *  cd new_folde\n",
    "\n",
    "\n",
    "2. В этой папке создайте файл (можно даже пустой) test.txt\n",
    "    * echo > test.txt\n",
    "\n",
    "\n",
    "3. Инициализируйте репозиторий в этой папке\n",
    "    * git init\n",
    "\n",
    "\n",
    "4. Сделайте коммит того, что находится в папке\n",
    "   * git add test.txt\n",
    "   * git commit -m 'first_commit'\n",
    "\n",
    "\n",
    "5. Создайте новую ветку (branch), назовите ее new\n",
    "   * git checkout -b new_branch\n",
    "\n",
    "\n",
    "6. Добавьте какого-нибудь текста в файл test.txt\n",
    "   * echo new text >> test.txt\n",
    "\n",
    "\n",
    "7. Сделайте коммит изменений\n",
    "   * git add test.txt\n",
    "   * git commit -m 'second_commit'\n",
    "\n",
    "\n",
    "8. Вернитесь на основную ветку (master)\n",
    "   * git checkout master\n",
    "\n",
    "\n",
    "9. Создайте еще одну ветку, назовите ее second\n",
    "   * git switch master\n",
    "   * git branch secondanch second"
   ]
  },
  {
   "cell_type": "code",
   "execution_count": null,
   "id": "d973469a-a6b0-4c78-9c08-ae900fbd8861",
   "metadata": {
    "vscode": {
     "languageId": "python"
    }
   },
   "outputs": [],
   "source": []
  }
 ],
 "metadata": {
  "kernelspec": {
   "display_name": "",
   "name": ""
  },
  "language_info": {
   "name": ""
  }
 },
 "nbformat": 4,
 "nbformat_minor": 5
}
